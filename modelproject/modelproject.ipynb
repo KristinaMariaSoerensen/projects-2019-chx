{
 "cells": [
  {
   "cell_type": "code",
   "execution_count": 1,
   "metadata": {},
   "outputs": [],
   "source": [
    "%load_ext autoreload\n",
    "%autoreload 2\n",
    "\n",
    "import modelproject.chxmodelproject as chx"
   ]
  },
  {
   "cell_type": "code",
   "execution_count": 2,
   "metadata": {},
   "outputs": [],
   "source": [
    "import numpy as np\n",
    "import sympy as sm\n",
    "#%matplotlib inline\n",
    "import matplotlib.pyplot as plt\n",
    "from sympy import *\n",
    "from scipy import linalg"
   ]
  },
  {
   "cell_type": "markdown",
   "metadata": {},
   "source": [
    "#### Introduction: \n",
    "This model project examines the simple model of the Keynesian Cross as seen in Macroeconomics by N. Gregory Mankiw, International 8th edition."
   ]
  },
  {
   "cell_type": "markdown",
   "metadata": {},
   "source": [
    "### Model description: The Keynesian Cross\n",
    "#### In a small open economy with fixed exchange rate in the short run\n",
    "\n",
    "$Y$ is production and is equal the planned total spending $AD$:\n",
    "$$ Y = AD $$\n",
    "\n",
    "$PD$ consists of consumption $C$, investments $I$, public consumption $G$ and the netto export $NX$:\n",
    "$$ AD = C + I + \\bar{G} + NX $$\n",
    "\n",
    "Private consumption is a linear function of the production left after taxes. $b$ is the marginal consumption rate. \n",
    "$$ C = a + b (Y-\\bar{T}), \\quad a > 0, \\quad 0<b<1 $$\n",
    "\n",
    "Investments goes down if the interest rate $r$ rises:\n",
    "$$ I = c - dr, \\quad c,d>0 $$\n",
    "Because of free capital movement the real domestic interest rate equals the real foreign interest rate, $r^*$\n",
    "$$ r = \\bar{r}^* $$\n",
    "\n",
    "Net export goes down if the real exchange rate goes up:\n",
    "$$ NX = f - g \\epsilon, \\quad f,g, >0 $$\n",
    "\n",
    "The real exchange rate is determined by the nominal exchange rate and the relative price ratio between the domestic and foreign price level.\n",
    "$$ \\epsilon = \\frac{\\bar{e} \\bar{P}}{\\bar{P}^*} $$\n",
    "\n",
    "As we are in the short run. Prices, public expenditure, taxes, the foreign interest rate are all exogenous. Making all variables but the consumption decided by external parameters.\n",
    "\n",
    "$$ AD = a + b ( Y - \\bar{T}) + I + G + NX$$\n"
   ]
  },
  {
   "cell_type": "markdown",
   "metadata": {},
   "source": [
    "### Equalibrium analysis"
   ]
  },
  {
   "cell_type": "code",
   "execution_count": 3,
   "metadata": {},
   "outputs": [],
   "source": [
    "# To solve the analytically we use sympy:\n",
    "Y, AD, a, b, T, I, G, NX = sm.symbols('Y, AD, a, b, T, I, G, NX')"
   ]
  },
  {
   "cell_type": "code",
   "execution_count": 4,
   "metadata": {},
   "outputs": [
    {
     "name": "stdout",
     "output_type": "stream",
     "text": [
      "Y =\n"
     ]
    },
    {
     "data": {
      "text/latex": [
       "$\\displaystyle - \\frac{G + I + NX - T b + a}{b - 1}$"
      ],
      "text/plain": [
       "-(G + I + NX - T*b + a)/(b - 1)"
      ]
     },
     "execution_count": 4,
     "metadata": {},
     "output_type": "execute_result"
    }
   ],
   "source": [
    "# We set AD=Y and solve wrt. Y:\n",
    "eq_AD = sm.Eq(Y, a + b*(Y-T) + I + G + NX)\n",
    "eq = sm.solve(eq_AD, Y)[0]\n",
    "yeq = sm.factor(eq)\n",
    "\n",
    "print('Y =')\n",
    "yeq"
   ]
  },
  {
   "cell_type": "code",
   "execution_count": 5,
   "metadata": {},
   "outputs": [
    {
     "data": {
      "text/latex": [
       "$\\displaystyle - \\frac{1}{b - 1}$"
      ],
      "text/plain": [
       "-1/(b - 1)"
      ]
     },
     "execution_count": 5,
     "metadata": {},
     "output_type": "execute_result"
    }
   ],
   "source": [
    "# I how a change in net export changes the production by differentiating: \n",
    "diff_Y = sm.diff(yeq, NX)\n",
    "diff_Y"
   ]
  },
  {
   "cell_type": "code",
   "execution_count": 6,
   "metadata": {},
   "outputs": [],
   "source": [
    "# The yeq is turned in to a python function:\n",
    "eq_func = sm.lambdify((T, I, G, NX, a, b), yeq)"
   ]
  },
  {
   "cell_type": "code",
   "execution_count": 7,
   "metadata": {
    "scrolled": true
   },
   "outputs": [
    {
     "data": {
      "image/png": "[encoded data removed]",
      "text/plain": [
       "<Figure size 720x360 with 1 Axes>"
      ]
     },
     "metadata": {
      "needs_background": "light"
     },
     "output_type": "display_data"
    }
   ],
   "source": [
    "# We plot the 45-degree line of AD=Y and the AD=C+I+G+NX with the following parameters:\n",
    "T = 40\n",
    "I = 20\n",
    "G = 30\n",
    "NX = 10\n",
    "a = 30\n",
    "b = 0.3\n",
    "\n",
    "# The plot of the cross given the parameters above:\n",
    "cross = chx.keynesian_cross(T, I, G, NX, a, b)\n",
    "equalibrium = chx.cross_equalibrium(T, I, G, NX, a, b)"
   ]
  },
  {
   "cell_type": "code",
   "execution_count": 8,
   "metadata": {},
   "outputs": [
    {
     "name": "stdout",
     "output_type": "stream",
     "text": [
      "The equalibrium for the Keynesian cross is: Y = 111.4\n",
      "The equalibrium for the Keynesian cross is: Y = 111.4\n"
     ]
    }
   ],
   "source": [
    "print(f'The equalibrium for the Keynesian cross is: Y = {equalibrium:.1f}')\n",
    "print(f'The equalibrium for the Keynesian cross is: Y = {eq_func(T, I, G, NX, a, b):.1f}')"
   ]
  },
  {
   "cell_type": "markdown",
   "metadata": {},
   "source": [
    "For the practice I also try to solve with linear algebra:\n",
    "\n",
    "We have 3 equations of 3 unknown, all other variables are decided exogenously:\n",
    "\n",
    "$$ AD = C + I + \\bar{G} + NX $$\n",
    "$$ C = a + b (Y-\\bar{T})$$\n",
    "$$ Y = AD $$\n",
    "\n",
    "We rename $I + G + NX$ = $EE$, exogenous expenditure.\n",
    "\n",
    "We rewrite the equations:\n",
    "\n",
    "$$ - C + AD    = EE $$\n",
    "$$ C - bY      = a -bT $$\n",
    "$$ AD - Y      = 0 $$\n",
    "\n",
    "This gives us the :\n",
    "\n",
    "\\\\[\n",
    "\\begin{eqnarray*}\n",
    "Ax = k \\Leftrightarrow\n",
    "\\begin{bmatrix} \n",
    "-1 & 1 & 0 \\\\ \n",
    "1 & 0 & -b \\\\\n",
    "0 & 1 & -1\n",
    "\\end{bmatrix} \\cdot\n",
    "\\begin{bmatrix} \n",
    "C \\\\ \n",
    "AD \\\\\n",
    "Y\n",
    "\\end{bmatrix} \\,=\\,\n",
    "\\begin{bmatrix} \n",
    "EE \\\\ \n",
    "a - bT \\\\\n",
    "0\n",
    "\\end{bmatrix} \n",
    "\\end{eqnarray*}\n",
    "\\\\]\n",
    "\n"
   ]
  },
  {
   "cell_type": "code",
   "execution_count": 9,
   "metadata": {},
   "outputs": [
    {
     "name": "stdout",
     "output_type": "stream",
     "text": [
      "EE = 60\n",
      "A = [[-1.   1.   0. ]\n",
      " [ 1.   0.  -0.3]\n",
      " [ 0.   1.  -1. ]]\n",
      "k = [60. 18.  0.]\n",
      "[ C AD Y ] =[ 51.42857143 111.42857143 111.42857143]\n"
     ]
    }
   ],
   "source": [
    "# The result optained by linear algebra:\n",
    "EE = I + G + NX\n",
    "print(f'EE = {EE}')\n",
    "\n",
    "# The matrix A\n",
    "A = np.array([[-1, 1, 0], [1, 0, -b], [0, 1, -1]])\n",
    "print(f'A = {A}')\n",
    "# The vector k:\n",
    "k = np.array([EE, a-b*T, 0])\n",
    "print(f'k = {k}')\n",
    "\n",
    "# Lastly I can solve A equals k, to optain the values of x:\n",
    "x1 = linalg.solve(A, k)\n",
    "print(f'[ C AD Y ] ={x1}')"
   ]
  },
  {
   "cell_type": "markdown",
   "metadata": {},
   "source": [
    "We get the same result as above."
   ]
  },
  {
   "cell_type": "markdown",
   "metadata": {},
   "source": [
    "#### Theory of the Keynesian cross:\n",
    "\n",
    "The models equalibrium is found where the two models cross, $Y^*$. They will always cross since $0<b<1$. If the production is higher than the aggregate expenditure and demand, the production stock will start to increase. This will make the producers correct their production level. This lower production leads to lower consumption, which again lowers demand. The production will continue to be lowered untill total production equals demand."
   ]
  },
  {
   "cell_type": "markdown",
   "metadata": {},
   "source": [
    "I examine what happens when the net export increases:"
   ]
  },
  {
   "cell_type": "code",
   "execution_count": 10,
   "metadata": {},
   "outputs": [
    {
     "name": "stdout",
     "output_type": "stream",
     "text": [
      "The new equalibrium for the Keynesian cross is: Y = 140.0\n",
      "Change in production when delta_NX=20: delta_Y = 28.6\n"
     ]
    },
    {
     "data": {
      "image/png": "[encoded data removed]",
      "text/plain": [
       "<Figure size 720x432 with 1 Axes>"
      ]
     },
     "metadata": {
      "needs_background": "light"
     },
     "output_type": "display_data"
    }
   ],
   "source": [
    "# The increase is set:\n",
    "delta_NX = 20\n",
    "new_NX = NX + delta_NX\n",
    "\n",
    "# A plot showing the new and the old AD-curve.\n",
    "NX_shift = chx.keynesian_cross_NXshift(T, I, G, NX, a, b, delta_NX)\n",
    "\n",
    "# The change in Y due to the change in NX:\n",
    "delta_Y = eq_func(T, I, G, new_NX, a, b) - eq_func(T, I, G, NX, a, b)\n",
    "\n",
    "print(f'The new equalibrium for the Keynesian cross is: Y = {eq_func(T, I, G, new_NX, a, b):.1f}')\n",
    "print(f'Change in production when delta_NX=20: delta_Y = {delta_Y:.1f}')"
   ]
  },
  {
   "cell_type": "markdown",
   "metadata": {},
   "source": [
    "Because of the parameter b, the new equalibrium production is even greater than the increase in NX. 28.6 > 20."
   ]
  },
  {
   "cell_type": "markdown",
   "metadata": {},
   "source": [
    "### Numerical optimization\n",
    "\n",
    "I examine how much the net export will have to rise in order to get an equilibrium in the short run with $Y=150$:"
   ]
  },
  {
   "cell_type": "code",
   "execution_count": 27,
   "metadata": {},
   "outputs": [
    {
     "name": "stdout",
     "output_type": "stream",
     "text": [
      "Size of NX optained by numerical optimization when production is set to 150: NX=37.000\n",
      "Y in equilibrium when NX is equal to 37: Y*=150.00000114393617\n"
     ]
    }
   ],
   "source": [
    "# Production goal:\n",
    "Y_goal = 150\n",
    "\n",
    "result = chx.num_opt(Y_goal,T,I,G,a,b).x\n",
    "print(f'Size of NX optained by numerical optimization when production is set to 150: NX={result[0]:.3f}')\n",
    "\n",
    "# Test\n",
    "NX_goal = result[0]\n",
    "equalibrium = chx.cross_equalibrium(T, I, G, NX_goal, a, b)\n",
    "print(f'Y in equilibrium when NX is equal to 37: Y*={equalibrium}')"
   ]
  },
  {
   "cell_type": "markdown",
   "metadata": {},
   "source": [
    "### Extension\n",
    "\n",
    "Instead of a lump sum tax we make taxes depend on the production size:\n",
    "\n",
    "$$ T = k + t Y $$"
   ]
  },
  {
   "cell_type": "code",
   "execution_count": 12,
   "metadata": {},
   "outputs": [
    {
     "name": "stdout",
     "output_type": "stream",
     "text": [
      "Y=\n"
     ]
    },
    {
     "data": {
      "text/latex": [
       "$\\displaystyle \\frac{G + I + NX + a - b k}{b t - b + 1}$"
      ],
      "text/plain": [
       "(G + I + NX + a - b*k)/(b*t - b + 1)"
      ]
     },
     "execution_count": 12,
     "metadata": {},
     "output_type": "execute_result"
    }
   ],
   "source": [
    "# We repeat the steps from the first part of the analysis:\n",
    "Y, AD, a, b, k, t, I, G, NX = sm.symbols('Y, AD, a, b, k, t, I, G, NX')\n",
    "\n",
    "eq_AD_t = sm.Eq(Y, a + b*(Y-(k + t*Y)) + I + G + NX)\n",
    "eq_t = sm.solve(eq_AD_t, Y)[0]\n",
    "yeq_t = sm.factor(eq_t)\n",
    "\n",
    "print('Y=')\n",
    "yeq_t"
   ]
  },
  {
   "cell_type": "code",
   "execution_count": 13,
   "metadata": {},
   "outputs": [
    {
     "data": {
      "text/latex": [
       "$\\displaystyle \\frac{1}{b t - b + 1}$"
      ],
      "text/plain": [
       "1/(b*t - b + 1)"
      ]
     },
     "execution_count": 13,
     "metadata": {},
     "output_type": "execute_result"
    }
   ],
   "source": [
    "# We differentiate:\n",
    "diff_Y_t = sm.diff(yeq_t, NX)\n",
    "diff_Y_t"
   ]
  },
  {
   "cell_type": "markdown",
   "metadata": {},
   "source": [
    "We can see that the new slope is less steep. The multiplicator effect is smaller."
   ]
  },
  {
   "cell_type": "code",
   "execution_count": 14,
   "metadata": {},
   "outputs": [
    {
     "name": "stdout",
     "output_type": "stream",
     "text": [
      "1/(b*t - b + 1) < -1/(b - 1)\n"
     ]
    }
   ],
   "source": [
    "print(f'{diff_Y_t} < {diff_Y}')"
   ]
  },
  {
   "cell_type": "code",
   "execution_count": 15,
   "metadata": {},
   "outputs": [],
   "source": [
    "# We make it into a python function:\n",
    "eq_func_t = sm.lambdify((k, t, I, G, NX, a, b), yeq_t)"
   ]
  },
  {
   "cell_type": "code",
   "execution_count": 16,
   "metadata": {},
   "outputs": [
    {
     "name": "stdout",
     "output_type": "stream",
     "text": [
      "The equalibrium for the Keynesian cross is: Y = 110.5\n",
      "The new equalibrium for the Keynesian cross is: Y = 136.8\n",
      "Change in production when delta_NX = 20: delta_Y = 26.3\n"
     ]
    },
    {
     "data": {
      "image/png": "[encoded data removed]",
      "text/plain": [
       "<Figure size 720x432 with 1 Axes>"
      ]
     },
     "metadata": {
      "needs_background": "light"
     },
     "output_type": "display_data"
    }
   ],
   "source": [
    "# We parameterize and plot the graphs:\n",
    "k = 20\n",
    "t = 0.2\n",
    "I = 20\n",
    "G = 30\n",
    "NX = 10\n",
    "a = 30\n",
    "b = 0.3\n",
    "\n",
    "delta_NX = 20\n",
    "new_NX = NX + delta_NX\n",
    "\n",
    "print(f'The equalibrium for the Keynesian cross is: Y = {eq_func_t(k, t, I, G, NX, a, b):.1f}')\n",
    "\n",
    "NX_shift_t = chx.keynesian_cross_NXshift_t(k, t, I, G, NX, a, b, delta_NX)\n",
    "\n",
    "delta_Y_t = eq_func_t(k, t, I, G, new_NX, a, b) - eq_func_t(k, t, I, G, NX, a, b)\n",
    "\n",
    "print(f'The new equalibrium for the Keynesian cross is: Y = {eq_func_t(k, t, I, G, new_NX, a, b):.1f}')\n",
    "print(f'Change in production when delta_NX = 20: delta_Y = {delta_Y_t:.1f}')"
   ]
  },
  {
   "cell_type": "markdown",
   "metadata": {},
   "source": [
    "Because of the dependent tax the shift in the total production is smaller. 26.3 < 28.6. By including a production dependent tax the economy gets more stable and shifts in exogenous variables have a smaller effect on the economy."
   ]
  }
 ],
 "metadata": {
  "kernelspec": {
   "display_name": "Python 3",
   "language": "python",
   "name": "python3"
  },
  "language_info": {
   "codemirror_mode": {
    "name": "ipython",
    "version": 3
   },
   "file_extension": ".py",
   "mimetype": "text/x-python",
   "name": "python",
   "nbconvert_exporter": "python",
   "pygments_lexer": "ipython3",
   "version": "3.7.1"
  }
 },
 "nbformat": 4,
 "nbformat_minor": 2
}
