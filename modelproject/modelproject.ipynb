{
 "cells": [
  {
   "cell_type": "code",
   "execution_count": 1,
   "metadata": {},
   "outputs": [],
   "source": [
    "%load_ext autoreload\n",
    "%autoreload 2\n",
    "# You can load your python module as this:\n",
    "import modelproject.chxmodelproject as chx"
   ]
  },
  {
   "cell_type": "code",
   "execution_count": 2,
   "metadata": {},
   "outputs": [],
   "source": [
    "import numpy as np\n",
    "import sympy as sm\n",
    "#%matplotlib inline\n",
    "import matplotlib.pyplot as plt\n",
    "from sympy import *"
   ]
  },
  {
   "cell_type": "markdown",
   "metadata": {},
   "source": [
    "#### A small open economy in with fixed exchange rate in the short run\n",
    "\n",
    "$Y$ is production and is equal the planned demand $PD$:\n",
    "$$ Y = AD $$\n",
    "\n",
    "$PD$ consists of consumption $C$, investments $I$, public consumption $G$ and the netto export $NX$:\n",
    "$$ AD = C + I + \\bar{G} + NX $$\n",
    "\n",
    "Private consumption is a linear function of the production left after taxes. $b$ is the marginal consumption rate. \n",
    "$$ C = a + b (Y-\\bar{T}), \\quad a > 0, 0<b<1 $$\n",
    "\n",
    "Investments goes down if the interest rate $r$ rises:\n",
    "$$ I = c - dr, \\quad c,d>0 $$\n",
    "Because of free capital movement the real domestic interest rate equals the real foreign interest rate, $r^*$\n",
    "$$ r = \\bar{r}^* $$\n",
    "\n",
    "Net export goes down if the real exchange rate goes up:\n",
    "$$ NX = f - g \\epsilon, \\quad f,g, >0 $$\n",
    "\n",
    "The real exchange rate is determined by the nominal exchange rate and the relative price ratio between the domestic and foreign price level.\n",
    "$$ \\epsilon = \\frac{\\bar{e} \\bar{P}}{\\bar{P}^*} $$\n",
    "\n",
    "The nominel quantity of money, $M$ relative to prices depends on domestic production and the interest rate. \n",
    "$$ \\frac{M}{\\bar{P}} = h Y - jr, \\quad h,j >0 $$\n",
    "\n",
    "As we are in the short run. Prices, public expenditure, taxes, the foreign interest rate are all exogenous.\n",
    "\n",
    "$$ AD = a + b ( Y - \\bar{T}) + I + G + NX$$\n"
   ]
  },
  {
   "cell_type": "code",
   "execution_count": 3,
   "metadata": {},
   "outputs": [],
   "source": [
    "Y, AD, a, b, T, I, G, NX = sm.symbols('Y, AD, a, b, T, I, G, NX')"
   ]
  },
  {
   "cell_type": "code",
   "execution_count": 4,
   "metadata": {},
   "outputs": [
    {
     "data": {
      "text/latex": [
       "$\\displaystyle - \\frac{G + I + NX - T b + a}{b - 1}$"
      ],
      "text/plain": [
       "-(G + I + NX - T*b + a)/(b - 1)"
      ]
     },
     "execution_count": 4,
     "metadata": {},
     "output_type": "execute_result"
    }
   ],
   "source": [
    "eq_AD = sm.Eq(Y, a + b*(Y-T) + I + G + NX)\n",
    "ss = sm.solve(eq_AD, Y)[0]\n",
    "yss = sm.factor(ss)\n",
    "\n",
    "yss"
   ]
  },
  {
   "cell_type": "code",
   "execution_count": 5,
   "metadata": {},
   "outputs": [],
   "source": [
    "ss_func = sm.lambdify((T, I, G, NX, a, b), yss)"
   ]
  },
  {
   "cell_type": "code",
   "execution_count": 6,
   "metadata": {
    "scrolled": true
   },
   "outputs": [
    {
     "name": "stdout",
     "output_type": "stream",
     "text": [
      "Steady state for the Keynesian cross is: Y = 115.71428571428572\n",
      "Steady state for the Keynesian cross is: Y = 115.71428571428572\n"
     ]
    },
    {
     "data": {
      "image/png": "[encoded data removed]",
      "text/plain": [
       "<Figure size 432x288 with 1 Axes>"
      ]
     },
     "metadata": {
      "needs_background": "light"
     },
     "output_type": "display_data"
    }
   ],
   "source": [
    "T = 30\n",
    "I = 20\n",
    "G = 30\n",
    "NX = 10\n",
    "a = 30\n",
    "b = 0.3\n",
    "\n",
    "cross = chx.keynesian_cross(T, I, G, NX, a, b)\n",
    "steady_state = chx.ss_cross(T, I, G, NX, a, b)\n",
    "\n",
    "print(f'Steady state for the Keynesian cross is: Y = {steady_state}')\n",
    "print(f'Steady state for the Keynesian cross is: Y = {ss_func(T, I, G, NX, a, b)}')"
   ]
  }
 ],
 "metadata": {
  "kernelspec": {
   "display_name": "Python 3",
   "language": "python",
   "name": "python3"
  },
  "language_info": {
   "codemirror_mode": {
    "name": "ipython",
    "version": 3
   },
   "file_extension": ".py",
   "mimetype": "text/x-python",
   "name": "python",
   "nbconvert_exporter": "python",
   "pygments_lexer": "ipython3",
   "version": "3.7.3"
  }
 },
 "nbformat": 4,
 "nbformat_minor": 2
}
