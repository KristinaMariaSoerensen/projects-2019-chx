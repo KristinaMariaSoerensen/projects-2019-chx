{
 "cells": [
  {
   "cell_type": "code",
   "execution_count": 25,
   "metadata": {},
   "outputs": [
    {
     "name": "stdout",
     "output_type": "stream",
     "text": [
      "The autoreload extension is already loaded. To reload it, use:\n",
      "  %reload_ext autoreload\n"
     ]
    }
   ],
   "source": [
    "%load_ext autoreload\n",
    "%autoreload 2\n",
    "# You can load your python module as this:\n",
    "import examproject.exam_2019 as exam"
   ]
  },
  {
   "cell_type": "code",
   "execution_count": 35,
   "metadata": {},
   "outputs": [],
   "source": [
    "import numpy as np\n",
    "from scipy import optimize\n",
    "\n",
    "from IPython.display import display\n",
    "\n",
    "%matplotlib inline\n",
    "import matplotlib.pyplot as plt\n",
    "\n",
    "import sympy as sm\n",
    "from scipy import interpolate\n"
   ]
  },
  {
   "cell_type": "markdown",
   "metadata": {},
   "source": [
    "# 1. Human capital accumulation"
   ]
  },
  {
   "cell_type": "markdown",
   "metadata": {},
   "source": [
    "A worker is living in **two periods**, $t \\in \\{1,2\\}$. \n",
    "\n",
    "In each period she decides whether to **work ($l_t = 1$) or not ($l_t = 0$)**. \n",
    "\n",
    "She can *not* borrow or save and thus **consumes all of her income** in each period. "
   ]
  },
  {
   "cell_type": "markdown",
   "metadata": {},
   "source": [
    "If she **works** her **consumption** becomes:\n",
    "\n",
    "$$c_t = w h_t l_t\\,\\,\\text{if}\\,\\,l_t=1$$\n",
    "\n",
    "where $w$ is **the wage rate** and $h_t$ is her **human capital**. \n",
    "\n",
    "If she does **not work** her consumption becomes:\n",
    "\n",
    "$$c_t = b\\,\\,\\text{if}\\,\\,l_t=0$$\n",
    "\n",
    "where $b$ is the **unemployment benefits**."
   ]
  },
  {
   "cell_type": "markdown",
   "metadata": {},
   "source": [
    "Her **utility of consumption** is: \n",
    "\n",
    "$$ \\frac{c_t^{1-\\rho}}{1-\\rho} $$\n",
    "\n",
    "Her **disutility of working** is:\n",
    "\n",
    "$$ \\gamma l_t $$"
   ]
  },
  {
   "cell_type": "markdown",
   "metadata": {},
   "source": [
    "From period 1 to period 2, she **accumulates human capital** according to:\n",
    "\n",
    "$$ h_2 = h_1 + l_1 + \n",
    "\\begin{cases}\n",
    "0 & \\text{with prob. }0.5 \\\\\n",
    "\\Delta & \\text{with prob. }0.5 \n",
    "\\end{cases} \\\\\n",
    "$$\n",
    "\n",
    "where $\\Delta$ is a **stochastic experience gain**."
   ]
  },
  {
   "cell_type": "markdown",
   "metadata": {},
   "source": [
    "In the **second period** the worker thus solves:\n",
    "\n",
    "$$\n",
    "\\begin{eqnarray*}\n",
    "v_{2}(h_{2}) & = &\\max_{l_{2}} \\frac{c_2^{1-\\rho}}{1-\\rho} - \\gamma l_2\n",
    "\\\\ & \\text{s.t.} & \\\\\n",
    "c_{2}& = & \\begin{cases}\n",
    "w h_2 & \n",
    "\\text{if }l_2 = 1  \\\\\n",
    "b & \\text{if }l_2 = 0 \n",
    "\\end{cases} \\\\\n",
    "l_{2}& \\in &\\{0,1\\}\n",
    "\\end{eqnarray*}\n",
    "$$"
   ]
  },
  {
   "cell_type": "markdown",
   "metadata": {},
   "source": [
    "In the **first period** the worker thus solves:\n",
    "\n",
    "$$\n",
    "\\begin{eqnarray*}\n",
    "v_{1}(h_{1}) &=& \\max_{l_{1}} \\frac{c_1^{1-\\rho}}{1-\\rho} - \\gamma l_1 + \\beta\\mathbb{E}_{1}\\left[v_2(h_2)\\right]\n",
    "\\\\ & \\text{s.t.} & \\\\\n",
    "c_{1}& = & \\begin{cases}\n",
    "w h_1 & \n",
    "\\text{if }l_1 = 1  \\\\\n",
    "b & \\text{if }l_1 = 0 \n",
    "\\end{cases} \\\\\n",
    "h_2 &=& h_1 + l_1 + \\begin{cases}\n",
    "0 & \\text{with prob. }0.5\\\\\n",
    "\\Delta & \\text{with prob. }0.5 \n",
    "\\end{cases}\\\\\n",
    "l_{1} &\\in& \\{0,1\\}\\\\\n",
    "\\end{eqnarray*}\n",
    "$$\n",
    "\n",
    "where $\\beta$ is the **discount factor** and $\\mathbb{E}_{1}\\left[v_2(h_2)\\right]$ is the **expected value of living in period two**."
   ]
  },
  {
   "cell_type": "markdown",
   "metadata": {},
   "source": [
    "The **parameters** of the model are:"
   ]
  },
  {
   "cell_type": "code",
   "execution_count": 27,
   "metadata": {},
   "outputs": [],
   "source": [
    "rho = 2\n",
    "beta = 0.96\n",
    "gamma = 0.1\n",
    "w = 2\n",
    "b = 1\n",
    "Delta = 0.1"
   ]
  },
  {
   "cell_type": "markdown",
   "metadata": {},
   "source": [
    "The **relevant levels of human capital** are:"
   ]
  },
  {
   "cell_type": "code",
   "execution_count": 28,
   "metadata": {},
   "outputs": [],
   "source": [
    "h_vec = np.linspace(0.1,1.5,100) "
   ]
  },
  {
   "cell_type": "markdown",
   "metadata": {},
   "source": [
    "**Question 1:**"
   ]
  },
  {
   "cell_type": "code",
   "execution_count": 5,
   "metadata": {},
   "outputs": [
    {
     "data": {
      "text/plain": [
       "\"\\n# solve\\nh2_vec,v2_vec,l2_vec = exam.solve_period_2(w,rho,b,gamma)\\n\\n# illustration\\nfig = plt.figure(figsize=(10,4))\\nax = fig.add_subplot(1,2,1)\\nax.plot(h2_vec,l2_vec)\\nax.grid()\\nax.set_xlabel('$h_2$')\\nax.set_ylabel('$l_2$')\\nax.set_title('Work function in period 2')\\n\\nax = fig.add_subplot(1,2,2)\\nax.plot(h2_vec,v2_vec)\\nax.grid()\\nax.set_xlabel('$h_2$')\\nax.set_ylabel('$v_2$')\\nax.set_title('value function in period 2')\\nax.set_ylim([-99,-101]);\\n\""
      ]
     },
     "execution_count": 5,
     "metadata": {},
     "output_type": "execute_result"
    }
   ],
   "source": [
    "\"\"\"\n",
    "# solve\n",
    "h2_vec,v2_vec,l2_vec = exam.solve_period_2(w,rho,b,gamma)\n",
    "\n",
    "# illustration\n",
    "fig = plt.figure(figsize=(10,4))\n",
    "ax = fig.add_subplot(1,2,1)\n",
    "ax.plot(h2_vec,l2_vec)\n",
    "ax.grid()\n",
    "ax.set_xlabel('$h_2$')\n",
    "ax.set_ylabel('$l_2$')\n",
    "ax.set_title('Work function in period 2')\n",
    "\n",
    "ax = fig.add_subplot(1,2,2)\n",
    "ax.plot(h2_vec,v2_vec)\n",
    "ax.grid()\n",
    "ax.set_xlabel('$h_2$')\n",
    "ax.set_ylabel('$v_2$')\n",
    "ax.set_title('value function in period 2')\n",
    "ax.set_ylim([-99,-101]);\n",
    "\"\"\""
   ]
  },
  {
   "cell_type": "markdown",
   "metadata": {},
   "source": [
    "**Question 2:**"
   ]
  },
  {
   "cell_type": "code",
   "execution_count": 6,
   "metadata": {},
   "outputs": [
    {
     "data": {
      "text/plain": [
       "\"\\n# solve\\nh1_vec,v1_vec,l1_vec = exam.solve_period_1(w,rho,b,gamma,beta,Delta)\\n\\n# illustration\\nfig = plt.figure(figsize=(10,4))\\nax = fig.add_subplot(1,2,1)\\nax.plot(h2_vec,l2_vec)\\nax.grid()\\nax.set_xlabel('$h_2$')\\nax.set_ylabel('$l_2$')\\nax.set_title('Work function in period 2')\\n\\nax = fig.add_subplot(1,2,2)\\nax.plot(h2_vec,v2_vec)\\nax.grid()\\nax.set_xlabel('$h_2$')\\nax.set_ylabel('$v_2$')\\nax.set_title('value function in period 2')\\nax.set_ylim([-99,-101]);\\n\""
      ]
     },
     "execution_count": 6,
     "metadata": {},
     "output_type": "execute_result"
    }
   ],
   "source": [
    "\"\"\"\n",
    "# solve\n",
    "h1_vec,v1_vec,l1_vec = exam.solve_period_1(w,rho,b,gamma,beta,Delta)\n",
    "\n",
    "# illustration\n",
    "fig = plt.figure(figsize=(10,4))\n",
    "ax = fig.add_subplot(1,2,1)\n",
    "ax.plot(h2_vec,l2_vec)\n",
    "ax.grid()\n",
    "ax.set_xlabel('$h_2$')\n",
    "ax.set_ylabel('$l_2$')\n",
    "ax.set_title('Work function in period 2')\n",
    "\n",
    "ax = fig.add_subplot(1,2,2)\n",
    "ax.plot(h2_vec,v2_vec)\n",
    "ax.grid()\n",
    "ax.set_xlabel('$h_2$')\n",
    "ax.set_ylabel('$v_2$')\n",
    "ax.set_title('value function in period 2')\n",
    "ax.set_ylim([-99,-101]);\n",
    "\"\"\""
   ]
  },
  {
   "cell_type": "markdown",
   "metadata": {},
   "source": [
    "**Question 1:** Solve the model in period 2 and illustrate the solution (including labor supply as a function of human capital). \n",
    "\n",
    "**Question 2:** Solve the model in period 1 and illustrate the solution (including labor supply as a function of human capital). \n",
    "\n",
    "**Question 3:** Will the worker never work if her potential wage income is lower than the unemployment benefits she can get? Explain and illustrate why or why not."
   ]
  },
  {
   "cell_type": "markdown",
   "metadata": {},
   "source": [
    "# 2. AS-AD model"
   ]
  },
  {
   "cell_type": "markdown",
   "metadata": {},
   "source": [
    "Consider the following **AS-AD model**. The **goods market equilibrium** is given by\n",
    "\n",
    "$$ y_{t} = -\\alpha r_{t} + v_{t} $$\n",
    "\n",
    "where $y_{t}$ is the **output gap**, $r_{t}$ is the **ex ante real interest** and $v_{t}$ is a **demand disturbance**. "
   ]
  },
  {
   "cell_type": "markdown",
   "metadata": {},
   "source": [
    "The central bank's **Taylor rule** is\n",
    "\n",
    "$$ i_{t} = \\pi_{t+1}^{e} + h \\pi_{t} + b y_{t}$$\n",
    "\n",
    "where $i_{t}$ is the **nominal interest rate**, $\\pi_{t}$ is the **inflation gap**, and $\\pi_{t+1}^{e}$ is the **expected inflation gap**. "
   ]
  },
  {
   "cell_type": "markdown",
   "metadata": {},
   "source": [
    "The **ex ante real interest rate** is given by \n",
    "\n",
    "$$ r_{t} = i_{t} - \\pi_{t+1}^{e} $$"
   ]
  },
  {
   "cell_type": "markdown",
   "metadata": {},
   "source": [
    "Together, the above implies that the **AD-curve** is\n",
    "\n",
    "$$ \\pi_{t} = \\frac{1}{h\\alpha}\\left[v_{t} - (1+b\\alpha)y_{t}\\right]$$"
   ]
  },
  {
   "cell_type": "markdown",
   "metadata": {},
   "source": [
    "Further, assume that the **short-run supply curve (SRAS)** is given by\n",
    "\n",
    "$$ \\pi_{t} = \\pi_{t}^{e} + \\gamma y_{t} + s_{t}$$\n",
    "\n",
    "where $s_t$ is a **supply disturbance**."
   ]
  },
  {
   "cell_type": "markdown",
   "metadata": {},
   "source": [
    "**Inflation expectations are adaptive** and given by\n",
    "\n",
    "$$ \\pi_{t}^{e} = \\phi\\pi_{t-1}^{e} + (1-\\phi)\\pi_{t-1}$$"
   ]
  },
  {
   "cell_type": "markdown",
   "metadata": {},
   "source": [
    "Together, this implies that the **SRAS-curve** can also be written as\n",
    "\n",
    "$$ \\pi_{t} = \\pi_{t-1} + \\gamma y_{t} - \\phi\\gamma y_{t-1} + s_{t} - \\phi s_{t-1} $$"
   ]
  },
  {
   "cell_type": "markdown",
   "metadata": {},
   "source": [
    "The **parameters** of the model are:"
   ]
  },
  {
   "cell_type": "code",
   "execution_count": 40,
   "metadata": {},
   "outputs": [],
   "source": [
    "par = {}\n",
    "\n",
    "par['alpha'] = 5.76\n",
    "par['h'] = 0.5\n",
    "par['b'] = 0.5\n",
    "par['phi'] = 0\n",
    "par['gamma'] = 0.075"
   ]
  },
  {
   "cell_type": "markdown",
   "metadata": {},
   "source": [
    "**Question 1:** Use the ``sympy`` module to solve for the equilibrium values of output, $y_t$, and inflation, $\\pi_t$, (where AD = SRAS) given the parameters ($\\alpha$, $h$, $b$, $\\alpha$, $\\gamma$) and $y_{t-1}$ , $\\pi_{t-1}$, $v_t$, $s_t$, and $s_{t-1}$.\n",
    "\n",
    "**Question 2:** Find and illustrate the equilibrium when $y_{t-1} = \\pi_{t-1} = v_t = s_t = s_{t-1} = 0$. Illustrate how the equilibrium changes when instead $v_t = 0.1$."
   ]
  },
  {
   "cell_type": "markdown",
   "metadata": {},
   "source": [
    "**Answer to question 1:**"
   ]
  },
  {
   "cell_type": "code",
   "execution_count": 41,
   "metadata": {},
   "outputs": [],
   "source": [
    "sm.init_printing(use_unicode=True) # for pretty printing\n",
    "\n",
    "# The parameters\n",
    "alpha = sm.symbols('alpha')\n",
    "h = sm.symbols('h')\n",
    "b = sm.symbols('b')\n",
    "phi = sm.symbols('phi')\n",
    "gamma = sm.symbols('gamma')\n",
    "\n",
    "# current periods\n",
    "v_t = sm.symbols('v_t')\n",
    "s_t = sm.symbols('s_t')\n",
    "pi_t = sm.symbols('\\pi_t')\n",
    "y_t = sm.symbols('y_t')\n",
    "\n",
    "# past periods\n",
    "y_past = sm.symbols('y_{t-1}')\n",
    "pi_past = sm.symbols('\\pi_{t-1}')\n",
    "s_past = sm.symbols('s_{t-1}')"
   ]
  },
  {
   "cell_type": "code",
   "execution_count": 42,
   "metadata": {},
   "outputs": [
    {
     "data": {
      "image/png": "[encoded data removed]",
      "text/latex": [
       "$$\\pi_t = \\frac{v_{t} - y_{t} \\left(- \\alpha b + 1\\right)}{\\alpha h}$$"
      ],
      "text/plain": [
       "       vₜ - yₜ⋅(-α⋅b + 1)\n",
       "\\piₜ = ──────────────────\n",
       "              α⋅h        "
      ]
     },
     "execution_count": 42,
     "metadata": {},
     "output_type": "execute_result"
    }
   ],
   "source": [
    "# AD-curve:\n",
    "ad = sm.Eq(pi_t,(1/(h*alpha))*(v_t-(1-b*alpha)*y_t))\n",
    "ad\n"
   ]
  },
  {
   "cell_type": "code",
   "execution_count": 43,
   "metadata": {},
   "outputs": [
    {
     "data": {
      "image/png": "[encoded data removed]",
      "text/latex": [
       "$$\\pi_t = \\pi_{t-1} - \\gamma \\phi y_{t-1} + \\gamma y_{t} - \\phi s_{t-1} + s_{t}$$"
      ],
      "text/plain": [
       "\\piₜ = \\pi_{t-1} - γ⋅φ⋅y_{t-1} + γ⋅yₜ - φ⋅s_{t-1} + sₜ"
      ]
     },
     "execution_count": 43,
     "metadata": {},
     "output_type": "execute_result"
    }
   ],
   "source": [
    "# SRAS-curve:\n",
    "sras = sm.Eq(pi_t, pi_past + gamma*y_t - phi*gamma*y_past + s_t - phi*s_past)\n",
    "sras"
   ]
  },
  {
   "cell_type": "code",
   "execution_count": 51,
   "metadata": {},
   "outputs": [
    {
     "data": {
      "image/png": "[encoded data removed]",
      "text/latex": [
       "$$y_{t}$$"
      ],
      "text/plain": [
       "yₜ"
      ]
     },
     "metadata": {},
     "output_type": "display_data"
    },
    {
     "name": "stdout",
     "output_type": "stream",
     "text": [
      "=\n"
     ]
    },
    {
     "data": {
      "image/png": "[encoded data removed]",
      "text/latex": [
       "$$\\left [ \\frac{- \\pi_{t-1} \\alpha h + \\alpha \\gamma h \\phi y_{t-1} + \\alpha h \\phi s_{t-1} - \\alpha h s_{t} + v_{t}}{- \\alpha b + \\alpha \\gamma h + 1}\\right ]$$"
      ],
      "text/plain": [
       "⎡-\\pi_{t-1}⋅α⋅h + α⋅γ⋅h⋅φ⋅y_{t-1} + α⋅h⋅φ⋅s_{t-1} - α⋅h⋅sₜ + vₜ⎤\n",
       "⎢──────────────────────────────────────────────────────────────⎥\n",
       "⎣                       -α⋅b + α⋅γ⋅h + 1                       ⎦"
      ]
     },
     "execution_count": 51,
     "metadata": {},
     "output_type": "execute_result"
    }
   ],
   "source": [
    "# We solve to get isolate y in the equalibrium\n",
    "\n",
    "pi_ad = (1/(h*alpha))*(v_t-(1-b*alpha)*y_t)\n",
    "pi_sras = pi_past + gamma*y_t - phi*gamma*y_past + s_t - phi*s_past\n",
    "\n",
    "equal = sm.Eq(pi_ad, pi_sras)\n",
    "\n",
    "# y_t equals in equalibrium\n",
    "solve = sm.solve(equal,y_t)\n",
    "\n",
    "display(y_t)\n",
    "print('=')\n",
    "solve"
   ]
  },
  {
   "cell_type": "markdown",
   "metadata": {},
   "source": [
    "**Answer to question 2:**"
   ]
  },
  {
   "cell_type": "code",
   "execution_count": 12,
   "metadata": {},
   "outputs": [
    {
     "data": {
      "text/plain": [
       "<function _lambdifygenerated(alpha, h, b, phi, gamma, _Dummy_186, _Dummy_187, _Dummy_188, v_t, s_t)>"
      ]
     },
     "execution_count": 12,
     "metadata": {},
     "output_type": "execute_result"
    }
   ],
   "source": [
    "_sol_func = sm.lambdify((alpha,h,b,phi,gamma,pi_past,y_past,s_past,v_t,s_t),solve)\n",
    "\n",
    "_sol_func"
   ]
  },
  {
   "cell_type": "markdown",
   "metadata": {},
   "source": [
    "**Persistent disturbances:** Now, additionaly, assume that both the demand and the supply disturbances are AR(1) processes\n",
    "\n",
    "$$ v_{t} = \\delta v_{t-1} + x_{t} $$\n",
    "$$ s_{t} = \\omega s_{t-1} + c_{t} $$\n",
    "\n",
    "where $x_{t}$ is a **demand shock**, and $c_t$ is a **supply shock**. The **autoregressive parameters** are:"
   ]
  },
  {
   "cell_type": "code",
   "execution_count": 13,
   "metadata": {},
   "outputs": [],
   "source": [
    "par['delta'] = 0.80\n",
    "par['omega'] = 0.15"
   ]
  },
  {
   "cell_type": "markdown",
   "metadata": {},
   "source": [
    "**Question 3:** Starting from $y_{-1} = \\pi_{-1} = s_{-1} = 0$, how does the economy evolve for $x_0 = 0.1$, $x_t = 0, \\forall t > 0$ and $c_t = 0, \\forall t \\geq 0$?"
   ]
  },
  {
   "cell_type": "markdown",
   "metadata": {},
   "source": [
    "**Answer to question 3:**"
   ]
  },
  {
   "cell_type": "code",
   "execution_count": 14,
   "metadata": {},
   "outputs": [],
   "source": [
    "delta = sm.symbols('delta')\n",
    "omega = sm.symbols('omega')\n",
    "\n",
    "x_t = sm.symbols('x_t')\n",
    "c_t = sm.symbols('c_t')\n",
    "\n",
    "v_past = sm.symbols('v_{t-1}')\n",
    "s_past = sm.symbols('s_{t-1}')\n",
    "\n",
    "# Persistent shocks:\n",
    "v_pers = delta*v_past + x_t\n",
    "s_pers = omega*s_past + c_t"
   ]
  },
  {
   "cell_type": "markdown",
   "metadata": {},
   "source": [
    "**Stochastic shocks:** Now, additionally, assume that $x_t$ and $c_t$ are stochastic and normally distributed\n",
    "\n",
    "$$ x_{t}\\sim\\mathcal{N}(0,\\sigma_{x}^{2}) $$\n",
    "$$ c_{t}\\sim\\mathcal{N}(0,\\sigma_{c}^{2}) $$\n",
    "\n",
    "The **standard deviations of the shocks** are:"
   ]
  },
  {
   "cell_type": "code",
   "execution_count": 15,
   "metadata": {},
   "outputs": [],
   "source": [
    "par['sigma_x'] = 3.492\n",
    "par['sigma_c'] = 0.2"
   ]
  },
  {
   "cell_type": "code",
   "execution_count": 19,
   "metadata": {},
   "outputs": [
    {
     "name": "stdout",
     "output_type": "stream",
     "text": [
      "{'alpha': 5.76, 'h': 0.5, 'b': 0.5, 'phi': 0, 'gamma': 0.075, 'delta': 0.8, 'omega': 0.15, 'sigma_x': 3.492, 'sigma_c': 0.2}\n"
     ]
    }
   ],
   "source": [
    "print(par)"
   ]
  },
  {
   "cell_type": "markdown",
   "metadata": {},
   "source": [
    "**Question 4:** Simulate the AS-AD model for 1,000 periods. Calculate the following five statistics:\n",
    "\n",
    "1. Variance of $y_t$, $var(y_t)$\n",
    "2. Variance of $\\pi_t$, $var(\\pi_t)$\n",
    "3. Correlation between $y_t$ and $\\pi_t$, $corr(y_t,\\pi_t)$\n",
    "4. Auto-correlation between $y_t$ and $y_{t-1}$, $corr(y_t,y_{t-1})$\n",
    "5. Auto-correlation between $\\pi_t$ and $\\pi_{t-1}$, $corr(\\pi_t,\\pi_{t-1})$"
   ]
  },
  {
   "cell_type": "markdown",
   "metadata": {},
   "source": [
    "**Answer to question 4:**"
   ]
  },
  {
   "cell_type": "code",
   "execution_count": 18,
   "metadata": {},
   "outputs": [
    {
     "data": {
      "text/plain": [
       "array([-7.60134941e-01,  2.86852210e+00,  5.17262211e+00,  4.65086924e+00,\n",
       "       -1.26363388e+00,  2.39414604e+00,  2.00357490e+00,  1.00474501e+00,\n",
       "       -8.22834837e-01,  3.32958793e+00, -5.90017155e+00, -1.20453993e+00,\n",
       "        5.90319006e-02, -1.79832246e+00,  8.53826447e-01, -6.61079625e-01,\n",
       "        9.33122608e+00,  1.62309029e+00,  2.95398911e+00, -1.75836720e+00,\n",
       "       -3.36396767e+00,  2.26870454e-01, -1.11920005e+01,  3.68395324e+00,\n",
       "        2.81901021e+00,  1.65569881e+00,  1.43496144e+00,  1.69951893e+00,\n",
       "       -1.87006974e+00, -2.92946654e+00, -2.83681287e+00, -1.57416896e+00,\n",
       "        3.73923833e+00,  7.59234655e-01, -4.10609821e+00, -3.23399983e+00,\n",
       "       -3.47086523e+00,  2.04912763e+00,  3.71483584e+00,  8.30191085e-01,\n",
       "       -2.70649752e+00, -3.41903098e+00, -5.41037537e+00, -4.21424423e+00,\n",
       "        1.55396875e+00, -6.04417037e-01,  5.19940358e+00, -2.76748156e+00,\n",
       "        6.42177787e+00, -1.53425254e+00,  4.05073106e+00, -2.01521034e+00,\n",
       "       -3.60040704e+00, -2.92938798e+00,  1.10673375e+00,  1.23356290e+00,\n",
       "        5.29290487e+00, -1.31945299e+00, -3.81563698e+00, -2.26401208e+00,\n",
       "        5.16810935e+00, -7.35171002e+00,  7.98602553e-01,  1.25931590e+00,\n",
       "       -5.02808375e+00, -2.31416855e+00, -2.31043717e+00, -2.08122145e+00,\n",
       "        1.82265128e-01, -5.42421729e+00,  5.77666808e+00,  2.29375052e+00,\n",
       "       -1.88067227e+00, -3.48099245e+00, -6.04858733e+00, -5.79732545e+00,\n",
       "        8.20909084e-01,  4.02119469e-01, -8.93737075e+00, -8.14755030e-01,\n",
       "        2.07134062e+00,  5.13921308e+00, -8.17962441e-01, -2.94930949e-01,\n",
       "        9.19609939e-01, -1.80508744e+00,  3.78009608e+00, -2.40568790e+00,\n",
       "       -3.69196984e+00,  1.66875607e+00, -2.41777721e+00, -2.71528788e+00,\n",
       "        7.38728435e-01, -9.63538361e-01, -7.20208061e-01, -1.84897270e+00,\n",
       "       -1.30011433e+00, -6.42808772e+00,  1.01165902e+00, -4.72348153e+00,\n",
       "        3.55282800e-01,  1.11651243e+00, -8.41150363e-01,  1.26420587e+00,\n",
       "        2.55318161e-01, -2.11668119e+00,  2.75941240e-01,  5.68740054e+00,\n",
       "        1.19739644e+00,  5.20302144e-01, -2.14222103e+00, -3.66272031e+00,\n",
       "       -5.16623617e-01,  3.05274377e+00, -3.23594580e+00,  1.03859690e+00,\n",
       "       -4.70949516e+00,  9.06371382e+00, -1.38701404e+00, -1.21882131e+00,\n",
       "        3.78091802e+00, -2.34582140e-01,  4.39958401e+00,  3.48687071e+00,\n",
       "        4.65136765e+00, -7.47645708e+00,  1.00663322e+00, -3.31556291e+00,\n",
       "       -1.70232088e+00,  1.57098243e-01, -7.84523570e+00,  3.99484571e+00,\n",
       "        8.04803687e+00,  5.94430357e+00, -8.52615138e-01,  1.30419024e+00,\n",
       "        4.74711636e+00, -1.70540667e+00,  1.07162582e+00, -4.21312153e+00,\n",
       "       -8.74987499e+00, -4.64048505e+00, -1.68787763e+00,  3.23903139e+00,\n",
       "       -2.95928425e+00,  1.34068635e+00, -1.52581516e+00,  1.54345073e+00,\n",
       "        6.83831278e+00,  9.13272536e-01, -6.10499378e+00,  5.67034925e+00,\n",
       "        2.81772803e+00, -4.79853750e+00, -2.35447143e+00,  6.37120214e+00,\n",
       "       -2.59428955e-01,  1.51757693e+00, -8.95844702e-01,  5.48425473e+00,\n",
       "        2.29540509e+00,  1.33508696e-01,  1.31574259e-01,  2.73590219e+00,\n",
       "        1.82099194e+00,  1.86591559e+00, -3.81025685e+00, -6.52572111e+00,\n",
       "       -3.58846291e+00,  3.41589734e-01, -2.21341464e+00, -1.66773921e-01,\n",
       "       -9.51197744e-01,  4.28320384e+00,  2.85309401e+00, -3.64689386e+00,\n",
       "        2.16482755e+00,  7.38428555e+00,  2.08067924e-01,  2.25828553e+00,\n",
       "        1.07833840e+00, -9.05959275e+00,  1.56405714e+00, -8.29687161e-01,\n",
       "        6.83963116e+00, -2.71771747e+00,  4.39446285e+00, -6.37591361e-01,\n",
       "       -1.84248683e+00, -6.58951117e-02,  7.91285661e+00, -6.83102528e-01,\n",
       "       -4.84027271e+00,  5.88535308e+00, -2.20827387e+00,  2.22522829e-01,\n",
       "       -1.81684269e+00,  1.33542918e+00,  3.69512442e+00,  1.26050923e-01,\n",
       "        2.95927314e+00,  1.39669782e+00, -1.76406068e-01,  4.75262882e+00,\n",
       "       -1.45724540e+00, -7.91622329e-01,  2.42247489e+00, -6.70513290e+00,\n",
       "        2.01553429e+00,  2.76205917e+00,  2.27696138e+00, -2.29624273e+00,\n",
       "       -2.85905186e-01,  2.00243863e+00,  5.64620570e-01,  3.61292935e+00,\n",
       "        2.45554205e+00,  3.85263096e+00, -1.52444508e-01,  1.97468875e+00,\n",
       "       -2.71561950e+00, -2.03789134e+00, -1.82167174e+00,  4.50049486e+00,\n",
       "        3.22906262e+00, -2.42220454e+00, -3.10857710e+00, -6.36907552e-01,\n",
       "       -2.37790806e+00,  4.52345138e+00,  6.47176349e-01, -3.29284878e-01,\n",
       "        1.14187431e+00, -9.75455175e-01, -7.55416905e+00,  1.21476343e+00,\n",
       "       -4.71314724e+00,  2.30959230e+00,  1.45116490e+00,  4.43979978e+00,\n",
       "        2.30003607e-01,  3.47630159e+00, -2.09979674e+00,  5.86155090e-01,\n",
       "       -4.38253087e+00,  2.46937485e+00,  2.39708620e+00,  5.62436632e+00,\n",
       "        1.51537606e+00,  1.40058392e+00, -1.20455188e+00,  3.07463859e+00,\n",
       "       -3.40196527e+00, -1.06361493e+00, -2.92563698e-01, -5.74935911e+00,\n",
       "        5.32307639e-01, -5.87131317e+00,  3.54228393e+00,  3.42214104e+00,\n",
       "        2.91169318e+00, -5.28784269e+00, -2.95441207e+00, -8.28580653e-01,\n",
       "       -3.60213810e+00, -2.05844941e+00,  2.73472420e+00, -1.03593826e+00,\n",
       "        1.23887566e+00,  1.04750746e+00,  8.53950813e-01,  1.69392593e+00,\n",
       "       -1.15938061e+00, -1.47803713e+00,  4.45912773e+00, -2.70798123e+00,\n",
       "       -2.84069702e+00, -1.19494901e+00,  2.64265654e-01,  3.09298978e+00,\n",
       "        2.40308277e+00, -3.03383212e+00,  4.79223962e+00, -3.02367779e+00,\n",
       "       -2.84374505e+00, -1.33664442e+00,  6.66245164e+00, -5.72384874e+00,\n",
       "       -7.08589083e+00, -4.34879135e+00,  6.28840644e+00, -2.01734560e+00,\n",
       "        1.50160385e+00,  1.69755137e+00,  2.12650259e-01,  2.46463932e+00,\n",
       "       -3.59775111e+00,  3.28429039e-01,  3.55858315e+00,  4.68978094e+00,\n",
       "       -1.52468001e+00,  8.19159400e+00, -4.55030008e+00, -3.94445939e+00,\n",
       "        1.02643967e+00,  5.60935048e-01, -5.16907971e-01,  1.09245091e+00,\n",
       "       -9.91025097e-02, -1.85121044e+00,  3.27591198e+00,  5.03586261e+00,\n",
       "        6.12368790e+00, -1.27312018e+00,  5.54935295e+00,  1.29791527e+00,\n",
       "        8.62288372e-01,  5.70932508e+00, -2.07392876e+00, -5.94309301e+00,\n",
       "        3.66731078e+00,  2.72268389e+00,  2.81703108e+00,  1.40723413e-01,\n",
       "       -4.09133246e+00, -6.60145342e+00,  2.32419352e+00,  1.15184215e+00,\n",
       "       -6.51530947e+00, -6.14808007e+00,  4.09327448e+00, -1.46213462e+00,\n",
       "        1.13790889e+00, -1.60595531e+00, -8.25915046e-01, -3.69080072e+00,\n",
       "       -3.35038691e+00,  7.90282133e-01,  1.43068703e+00,  1.59666087e+00,\n",
       "        8.74258226e-01,  8.12742819e-01, -2.99254639e+00, -5.32643708e+00,\n",
       "        1.29711461e+00,  6.45070149e-01, -4.75476331e-01, -5.21843513e+00,\n",
       "       -7.56724102e-01,  3.48109906e+00,  4.66417385e-01,  5.53649706e+00,\n",
       "        4.53423019e+00,  3.84286923e+00,  2.30747503e+00,  6.82334872e+00,\n",
       "       -8.31767529e-01, -1.63842808e+00,  2.00307471e+00,  7.24124764e-01,\n",
       "       -1.88174010e+00,  8.37302379e-01, -4.65931820e+00, -2.04769753e+00,\n",
       "       -1.40973971e+00, -1.28774242e+00,  1.82912698e+00, -4.15553433e+00,\n",
       "       -7.76382442e+00, -4.37872844e+00,  4.41848321e+00, -2.56348380e+00,\n",
       "       -1.40805643e+00, -4.24188825e-01,  1.50561360e+00,  8.00483956e+00,\n",
       "       -3.03533735e+00, -1.93172973e+00, -1.84033060e+00,  5.88335599e+00,\n",
       "       -4.61600362e+00, -4.60982949e+00,  2.78534456e+00, -6.06567250e+00,\n",
       "        9.22897875e-01,  5.05287102e+00, -3.42953783e+00,  7.30902445e+00,\n",
       "       -1.10899078e+00, -3.97632480e+00,  4.79816470e+00, -1.77609209e+00,\n",
       "        1.02787247e-01, -1.15305522e+00, -1.75149442e+00, -2.09565817e+00,\n",
       "       -2.38814828e+00, -2.76212790e+00, -6.42447178e-01,  2.77204534e+00,\n",
       "        1.20185104e+00,  1.25362843e+00, -3.85048954e+00, -6.55949195e+00,\n",
       "       -2.87311446e+00,  1.22697853e+00, -2.21506785e-01,  2.53783067e+00,\n",
       "        4.64351127e+00,  3.42807653e-02,  1.98291235e+00,  3.22836719e+00,\n",
       "        5.69198484e+00, -6.36953632e+00,  2.45005405e+00,  3.21354328e+00,\n",
       "       -3.15819475e-01, -8.90187725e-01, -3.20251842e+00,  3.57726513e+00,\n",
       "       -2.43462702e+00,  3.33858679e-01, -1.84065849e+00, -8.78991829e-01,\n",
       "        5.00162463e+00, -2.71213802e+00,  1.64093493e+00, -2.99981745e+00,\n",
       "       -7.68715342e+00,  7.70813601e-01, -3.60071547e+00, -1.98821679e+00,\n",
       "        1.49416169e-01,  1.05682206e+00,  4.59447800e+00,  7.36082957e-01,\n",
       "        1.03757625e-01, -1.25485803e+00, -1.77232523e+00, -4.59657734e+00,\n",
       "        1.45167770e+00,  3.39149693e-01,  1.99356037e+00, -4.33636136e+00,\n",
       "        3.87764376e+00, -2.30225734e+00,  5.12872861e+00,  2.54245908e+00,\n",
       "        6.65181487e+00,  2.41800261e+00, -5.00984180e-01,  2.66710770e+00,\n",
       "       -1.70428994e+00,  1.09047537e+00, -6.02428743e+00,  1.55871002e+00,\n",
       "        1.21760494e+00, -4.79030603e-01, -5.47545899e+00,  2.96757207e+00,\n",
       "        6.10812404e+00,  7.37250475e+00, -2.99490087e+00, -6.50930535e+00,\n",
       "       -2.92172273e+00, -9.59738545e-01, -6.66725296e-01,  9.67050818e-01,\n",
       "       -1.62307926e+00,  5.63236062e-01,  5.08581597e+00, -4.76379634e+00,\n",
       "        4.00213053e+00,  3.71335551e+00,  2.60827129e+00,  9.53452687e-01,\n",
       "       -4.75586586e+00, -3.32895542e+00,  2.13567988e+00,  8.13970210e+00,\n",
       "       -5.77408060e-01, -9.55595520e-01, -2.21566904e+00, -7.09403240e-01,\n",
       "       -1.31681439e+00,  2.27594543e+00,  2.94714561e+00, -1.21659205e+00,\n",
       "       -6.88875053e+00, -1.16157457e+00, -3.15751030e+00, -4.04053710e-01,\n",
       "       -1.88509307e+00, -7.42582514e+00,  4.19359492e+00,  7.46814236e+00,\n",
       "        7.88549371e-01, -4.95980040e+00,  1.41134571e+00, -2.45877034e+00,\n",
       "       -2.45933985e+00,  5.26854418e+00,  1.68024020e-01, -5.04721659e+00,\n",
       "       -1.30750607e-01,  1.19118204e+00, -3.46373630e-01, -2.64387339e+00,\n",
       "       -2.99146415e+00,  2.63285618e+00,  3.18074159e+00,  3.27554242e+00,\n",
       "        4.55149240e+00, -1.11458670e+00, -5.53026619e+00, -1.82153055e+00,\n",
       "        7.39806100e+00,  5.91186491e+00,  4.59741001e-03, -9.53817338e-01,\n",
       "        2.14546546e+00,  1.64875483e+00,  1.45510072e+00,  6.33768941e+00,\n",
       "       -2.80498600e+00, -5.33965377e+00,  3.36106870e+00, -2.71704197e+00,\n",
       "        1.12526494e+00, -1.45830904e+00, -2.63825588e+00, -1.58102977e+00,\n",
       "        6.83230426e-01, -4.72094179e+00,  2.14005447e-01, -3.47120618e+00,\n",
       "        3.10392487e+00, -5.62744084e+00, -5.42441355e+00,  2.04874992e+00,\n",
       "        3.24925150e+00,  8.86010566e-01,  3.54438220e-01,  5.30174106e+00,\n",
       "       -3.46817062e+00, -1.55915001e+00,  6.01715429e+00, -3.34611007e+00,\n",
       "        7.50172611e+00, -3.51167191e-01, -3.80492575e+00, -1.75804083e+00,\n",
       "       -4.39406087e+00,  1.04849672e+00,  7.98468750e-01,  8.64448399e-01,\n",
       "        6.27765434e-01, -4.94602255e-02,  3.74470295e+00, -3.17273038e+00,\n",
       "        5.15430937e+00,  3.93142243e+00,  7.29525807e-01,  6.41976638e-01,\n",
       "        6.95813662e+00,  2.50494295e+00, -6.64922528e+00, -7.20693119e+00,\n",
       "       -2.57477976e-01, -8.24529542e-01,  1.48957983e-01, -1.91327827e+00,\n",
       "        2.98661062e+00,  2.89433332e+00,  2.02940018e+00,  1.44551009e+00,\n",
       "       -1.17222629e+00,  1.92179445e+00,  2.16482476e-01,  2.25172066e+00,\n",
       "        2.35616877e+00,  1.56389553e+00, -3.57074675e+00, -4.43699107e+00,\n",
       "        1.64718753e+00,  3.71058836e-01,  2.36518951e+00, -5.07040631e+00,\n",
       "       -2.63106811e+00, -2.39353081e+00, -1.96805274e+00, -4.71516030e+00,\n",
       "       -5.42554634e+00, -9.09743514e-01,  3.61761752e+00, -7.25021655e+00,\n",
       "       -4.72570095e+00, -2.26820809e+00, -1.55101153e-01, -2.75346792e+00,\n",
       "       -5.93255640e+00, -2.67220254e+00, -7.60158979e-02,  6.12345438e+00,\n",
       "       -1.09182928e+01,  5.87093485e+00, -9.80618997e-02, -4.15821907e+00,\n",
       "       -3.96765317e+00,  4.48803010e+00, -4.57768507e+00, -1.76114838e+00,\n",
       "       -3.02009592e+00,  4.00766692e+00,  2.31028272e+00,  1.74543548e+00,\n",
       "       -7.59955694e+00,  3.34423376e+00, -5.12386618e-01, -1.16017880e+00,\n",
       "       -1.48163505e+00, -1.23365738e+00, -2.19391709e+00,  7.32303228e+00,\n",
       "       -5.49897481e-01,  6.24327878e+00, -5.45831336e+00, -1.70570019e+00,\n",
       "       -4.37990493e-01,  2.78169822e+00,  5.12723924e-02, -1.19970379e+00,\n",
       "        8.31680338e-02,  4.16155963e+00,  4.66926172e+00,  3.79117642e+00,\n",
       "        4.09077058e-01, -2.65094658e+00,  1.06053261e+00, -3.25157585e+00,\n",
       "       -1.60235340e+00,  6.21365225e+00, -8.69844025e-01,  1.83428499e+00,\n",
       "       -1.96101727e+00,  7.18370445e+00, -2.15194337e+00, -2.61465536e-01,\n",
       "       -4.26496497e+00,  1.56585026e+00, -4.46140491e+00,  5.09327614e+00,\n",
       "       -1.94947114e+00, -1.14611719e+00, -3.76596049e+00,  2.18734573e+00,\n",
       "        5.73179922e-01,  4.52715538e+00,  6.47159002e-01,  7.12148434e+00,\n",
       "        2.65337333e+00, -6.20652174e+00, -4.54717803e+00,  2.01170912e+00,\n",
       "       -2.65778935e+00,  1.66471605e+00,  3.14556041e-01,  3.38913119e+00,\n",
       "       -1.07727657e+01, -1.49770687e+00,  3.40091055e+00, -3.02124027e+00,\n",
       "        4.89104158e+00, -6.62180026e+00,  2.06623325e-01,  5.57333429e+00,\n",
       "       -1.99499086e+00, -1.20212946e+00,  3.88841658e+00, -6.44666322e+00,\n",
       "        3.67134850e+00,  2.60567073e+00,  1.13595950e-01, -8.48944321e-01,\n",
       "        3.10019306e+00,  2.45549322e+00, -3.58336526e+00, -1.33195530e+00,\n",
       "        4.23686156e+00,  4.23461303e+00,  5.37657104e-01, -4.63677825e+00,\n",
       "       -2.47104243e+00,  1.84525615e+00, -7.62130764e+00, -2.66398887e+00,\n",
       "       -9.20340844e-01,  3.74269036e+00, -5.03823146e-01, -8.19548828e-01,\n",
       "        2.02287508e+00, -1.71802934e+00, -9.76110569e-01, -7.09398465e+00,\n",
       "        9.42650521e+00,  1.58261700e+00, -5.54278235e+00, -2.01375042e+00,\n",
       "       -4.83683171e+00,  7.56553756e-01,  2.19689733e+00, -2.28460775e+00,\n",
       "       -2.91042681e+00,  9.83183384e-01, -4.84578921e+00, -1.54248935e+00,\n",
       "        2.89702687e+00, -9.14290964e-01, -1.03670891e+00, -4.84285337e+00,\n",
       "        5.07851977e+00,  5.59196442e+00,  7.97562712e+00,  2.52518863e+00,\n",
       "       -2.53703914e+00,  1.06541616e+00,  4.85422267e+00,  5.89921240e+00,\n",
       "        4.35763492e+00, -1.85537040e+00,  6.88774140e-01, -3.92528581e+00,\n",
       "        2.47548854e+00, -2.03755860e+00, -3.44826761e-01,  4.99665066e+00,\n",
       "        4.08519873e+00,  1.02251486e+01, -2.79434394e-01, -5.37224492e+00,\n",
       "        2.57627139e+00, -8.06599557e+00, -1.51045374e+00, -2.14673211e+00,\n",
       "       -7.69810846e-01,  4.37279974e+00,  8.97743130e-01, -3.08745627e+00,\n",
       "       -3.81653905e+00, -4.04465107e+00,  2.82908090e+00, -4.55887183e+00,\n",
       "        3.74260335e+00, -3.41482077e+00, -3.67628555e+00,  9.55889465e+00,\n",
       "        2.99689567e+00, -3.85888860e+00, -4.70789161e+00,  7.30261473e+00,\n",
       "        1.84005124e-01,  2.03351204e+00,  4.88705761e+00,  2.71599393e+00,\n",
       "        4.95711863e+00,  7.18391984e+00,  3.17632528e+00,  1.37370715e+00,\n",
       "        6.50213003e+00, -2.00255198e-01,  2.00680691e+00, -7.45771172e-01,\n",
       "       -3.14600813e+00,  3.83570719e+00, -3.22777669e+00, -1.48768271e+00,\n",
       "        9.18153810e-01,  8.17104316e+00, -3.28277776e+00,  3.68274889e+00,\n",
       "        2.82730426e+00, -2.20320655e+00, -2.60357158e+00, -3.21760571e+00,\n",
       "        1.20362512e+00, -4.11351579e+00,  2.06624829e+00, -6.45682600e-01,\n",
       "       -9.49721725e+00, -1.86908489e+00,  1.41467549e+00, -8.90082352e-01,\n",
       "       -1.22920236e+00, -4.17445881e+00,  1.77633576e+00, -9.22058885e-03,\n",
       "        8.52411395e-01,  2.31318999e+00,  2.92167473e+00,  6.81521289e+00,\n",
       "        2.03064887e-01,  4.56705746e+00, -7.65137306e+00,  7.46619757e-01,\n",
       "       -3.23173628e+00, -4.37371604e+00,  7.43428885e-01, -3.10815412e-01,\n",
       "       -8.35905401e-01, -2.71794235e+00,  3.08211359e+00,  9.28337304e-01,\n",
       "       -7.35510260e-01,  2.89112891e+00,  8.87283076e-01,  4.43038425e+00,\n",
       "       -2.46923317e+00,  7.85204691e+00,  2.53227535e+00,  1.42774435e+00,\n",
       "        4.33888168e+00,  3.09374690e+00, -3.96678533e+00,  4.82680432e+00,\n",
       "        4.37536943e+00, -7.43439707e+00,  1.52873521e+00, -6.52662357e+00,\n",
       "       -2.86322242e+00,  3.22071311e+00,  2.69482370e+00,  2.12699567e+00,\n",
       "        5.84649121e+00, -2.51333180e+00,  3.25176357e+00,  2.34885434e+00,\n",
       "        1.48846770e+00,  6.81476845e+00, -1.19955860e+00, -9.34353153e-01,\n",
       "        1.10736471e+00,  1.99967939e+00, -4.42182082e-01, -2.31546605e+00,\n",
       "       -2.37978194e+00,  3.78374906e+00,  1.86907023e+00, -4.70865851e-01,\n",
       "       -1.63063192e+00, -2.87206242e+00, -4.72286282e+00,  2.28336908e-01,\n",
       "        6.60877912e+00,  4.35380903e+00, -4.24895075e+00,  1.59910523e+00,\n",
       "        4.51122045e+00, -2.69901089e+00, -1.04438783e+00,  7.54664588e+00,\n",
       "       -5.42597360e-01, -1.36551767e+00,  7.86214200e+00, -7.28600413e+00,\n",
       "        8.76792389e-01,  7.70532614e-01,  7.70651093e-01, -6.32193354e-01,\n",
       "       -4.50116596e-01, -2.24762784e+00, -1.13425064e+00,  2.35166142e-01,\n",
       "       -7.68038325e-01, -9.60472356e-01,  1.03370568e+00,  1.72199573e+00,\n",
       "        1.97890967e+00, -4.08091002e+00,  3.46660921e+00, -4.41721507e+00,\n",
       "       -5.03659355e-01, -8.51510059e+00,  2.98564050e+00, -4.78111722e+00,\n",
       "        3.85761963e+00,  4.09653894e+00, -7.78420868e+00, -2.65098541e+00,\n",
       "        1.45469935e+00, -3.35466508e+00,  1.56633596e+00, -3.29066471e+00,\n",
       "        1.12431087e+00,  3.88896027e+00, -2.80833667e+00,  1.35289979e+00,\n",
       "       -5.94540501e+00,  4.42497809e+00,  2.15733235e+00,  2.34322035e+00,\n",
       "       -4.64233687e+00, -2.26019597e-01,  4.31876472e+00, -1.20894596e+00,\n",
       "       -1.16812637e+00, -2.41739538e+00,  1.74660200e+00, -2.24607847e+00,\n",
       "        5.99164027e+00, -2.94323767e-01,  1.37181199e+00, -1.49852797e+00,\n",
       "        2.07734384e+00, -1.92660838e-01,  2.62388936e+00, -6.22223652e+00,\n",
       "       -2.78051592e+00, -2.33176222e+00,  2.01192547e+00, -7.52440003e+00,\n",
       "        2.42690422e+00, -1.68475280e+00, -1.22839020e-01, -2.41972324e+00,\n",
       "        2.86144810e+00,  3.29300336e+00,  1.72337900e+00, -2.72593258e+00,\n",
       "       -2.97137487e+00,  1.22857436e+00,  1.76965161e+00,  8.55910531e+00,\n",
       "       -2.49253754e-01, -6.42963019e-02,  2.57772514e+00,  9.41260564e-02,\n",
       "       -1.52690338e+00,  4.17457756e+00,  4.27386606e+00, -1.73829530e-01,\n",
       "       -8.89800461e+00, -3.52981522e+00,  1.20319277e+00, -5.00835685e+00,\n",
       "       -3.29423776e+00, -1.57719821e+00, -5.46965351e-01,  5.77421547e-01,\n",
       "       -2.63573406e-01,  3.99650021e+00,  2.13882338e+00,  6.49964234e+00,\n",
       "       -1.99505539e+00,  3.03805118e+00,  1.65106191e+00, -4.08553826e+00,\n",
       "       -2.65682252e+00,  2.77861949e+00, -3.44660795e+00,  8.20373307e+00,\n",
       "       -1.00369521e+00,  2.94113943e+00, -2.00711785e+00, -2.21304704e+00,\n",
       "       -3.58484228e+00, -3.33668440e+00,  3.23411174e-01,  4.12222178e+00,\n",
       "       -7.01472431e+00,  4.83934626e-01, -2.42972234e+00, -3.02757146e-01,\n",
       "        3.77418306e+00,  1.56254827e+00,  8.85260508e-02,  3.99840164e+00,\n",
       "       -1.76659253e+00, -1.62762976e-01,  1.46657102e+00,  1.88041467e+00,\n",
       "       -6.83395616e-01,  3.41273183e+00, -5.16199835e+00, -4.71959345e+00,\n",
       "        3.97055200e+00, -2.54754827e+00, -3.19802764e+00,  2.14636494e+00,\n",
       "       -3.69214698e+00, -1.99730255e+00, -8.95657626e-01,  3.03450411e+00,\n",
       "       -2.38069473e+00,  2.55025532e+00, -2.24013956e+00, -2.57547312e+00,\n",
       "       -2.70946494e+00,  5.91389378e-01,  4.21884219e+00, -2.40128359e+00])"
      ]
     },
     "execution_count": 18,
     "metadata": {},
     "output_type": "execute_result"
    }
   ],
   "source": [
    "# Simulation of data\n",
    "np.random.seed(2019) # set the seed\n",
    "n=1000\n",
    "\n",
    "# stochastic variables\n",
    "x_vec = par['sigma_x']*np.random.normal(size=n)\n",
    "c_vec = par['sigma_c']*np.random.normal(size=n)\n",
    "\n",
    "\n",
    "# optimal choices\n",
    "#con = model.c_star(w,e,par);\n",
    "#lab = model.l_star(w,e,par);"
   ]
  },
  {
   "cell_type": "markdown",
   "metadata": {},
   "source": [
    "**Question 5:** Plot how the correlation between $y_t$ and $\\pi_t$ changes with $\\phi$. Use a numerical optimizer or root finder to choose $\\phi\\in(0,1)$ such that the simulated correlation between $y_t$ and $\\pi_t$ comes close to 0.31. "
   ]
  },
  {
   "cell_type": "markdown",
   "metadata": {},
   "source": [
    "**Quesiton 6:** Use a numerical optimizer to choose $\\sigma_x>0$, $\\sigma_c>0$ and $\\phi\\in(0,1)$ to make the simulated statistics as close as possible to US business cycle data where:\n",
    "\n",
    "1. $var(y_t) = 1.64$\n",
    "2. $var(\\pi_t) = 0.21$\n",
    "3. $corr(y_t,\\pi_t) = 0.31$\n",
    "4. $corr(y_t,y_{t-1}) = 0.84$\n",
    "5. $corr(\\pi_t,\\pi_{t-1}) = 0.48$"
   ]
  },
  {
   "cell_type": "markdown",
   "metadata": {},
   "source": [
    "# 3. Exchange economy"
   ]
  },
  {
   "cell_type": "markdown",
   "metadata": {},
   "source": [
    "Consider an **exchange economy** with\n",
    "\n",
    "1. 3 goods, $(x_1,x_2,x_3)$\n",
    "2. $N$ consumers indexed by \\\\( j \\in \\{1,2,\\dots,N\\} \\\\)\n",
    "3. Preferences are Cobb-Douglas with log-normally distributed coefficients\n",
    "\n",
    "    $$ \\begin{eqnarray*}\n",
    "    u^{j}(x_{1},x_{2},x_{3}) &=& \n",
    "    \\left(x_{1}^{\\beta_{1}^{j}}x_{2}^{\\beta_{2}^{j}}x_{3}^{\\beta_{3}^{j}}\\right)^{\\gamma}\\\\\n",
    "     &  & \\,\\,\\,\\beta_{i}^{j}=\\frac{\\alpha_{i}^{j}}{\\alpha_{1}^{j}+\\alpha_{2}^{j}+\\alpha_{3}^{j}} \\\\\n",
    "     &  & \\,\\,\\,\\boldsymbol{\\alpha}^{j}=(\\alpha_{1}^{j},\\alpha_{2}^{j},\\alpha_{3}^{j}) \\\\ \n",
    "     &  & \\,\\,\\,\\log(\\boldsymbol{\\alpha}^j) \\sim \\mathcal{N}(\\mu,\\Sigma) \\\\\n",
    "    \\end{eqnarray*} $$\n",
    "\n",
    "4. Endowments are exponentially distributed,\n",
    "\n",
    "$$\n",
    "\\begin{eqnarray*}\n",
    "\\boldsymbol{e}^{j} &=& (e_{1}^{j},e_{2}^{j},e_{3}^{j}) \\\\\n",
    " &  & e_i^j \\sim f, f(z;\\zeta) =  1/\\zeta \\exp(-z/\\zeta)\n",
    "\\end{eqnarray*}\n",
    "$$"
   ]
  },
  {
   "cell_type": "markdown",
   "metadata": {},
   "source": [
    "Let $p_3 = 1$ be the **numeraire**. The implied **demand functions** are:\n",
    "\n",
    "$$\n",
    "\\begin{eqnarray*}\n",
    "x_{i}^{\\star j}(p_{1},p_{2},\\boldsymbol{e}^{j})&=&\\beta^{j}_i\\frac{I^j}{p_{i}} \\\\\n",
    "\\end{eqnarray*}\n",
    "$$\n",
    "\n",
    "where consumer $j$'s income is\n",
    "\n",
    "$$I^j = p_1 e_1^j + p_2 e_2^j +p_3 e_3^j$$"
   ]
  },
  {
   "cell_type": "markdown",
   "metadata": {},
   "source": [
    "The **parameters** and **random preferences and endowments** are given by:"
   ]
  },
  {
   "cell_type": "code",
   "execution_count": null,
   "metadata": {},
   "outputs": [],
   "source": [
    "# a. parameters\n",
    "N = 50000\n",
    "mu = np.array([3,2,1])\n",
    "Sigma = np.array([[0.25, 0, 0], [0, 0.25, 0], [0, 0, 0.25]])\n",
    "gamma = 0.8\n",
    "zeta = 1\n",
    "\n",
    "# b. random draws\n",
    "seed = 1986\n",
    "np.random.seed(seed)\n",
    "\n",
    "# preferences\n",
    "alphas = np.exp(np.random.multivariate_normal(mu, Sigma, size=N))\n",
    "betas = alphas/np.reshape(np.sum(alphas,axis=1),(N,1))\n",
    "\n",
    "# endowments\n",
    "e1 = np.random.exponential(zeta,size=N)\n",
    "e2 = np.random.exponential(zeta,size=N)\n",
    "e3 = np.random.exponential(zeta,size=N)"
   ]
  },
  {
   "cell_type": "markdown",
   "metadata": {},
   "source": [
    "**Question 1:** Plot the histograms of the budget shares for each good across agents.\n",
    "\n",
    "Consider the **excess demand functions:**\n",
    "\n",
    "$$ z_i(p_1,p_2) = \\sum_{j=1}^N x_{i}^{\\star j}(p_{1},p_{2},\\boldsymbol{e}^{j}) - e_i^j$$\n",
    "\n",
    "**Question 2:** Plot the excess demand functions."
   ]
  },
  {
   "cell_type": "markdown",
   "metadata": {},
   "source": [
    "**Quesiton 3:** Find the Walras-equilibrium prices, $(p_1,p_2)$, where both excess demands are (approximately) zero, e.g. by using the following tâtonnement process:\n",
    "\n",
    "1. Guess on $p_1 > 0$, $p_2 > 0$ and choose tolerance $\\epsilon > 0$ and adjustment aggressivity parameter, $\\kappa > 0$.\n",
    "2. Calculate $z_1(p_1,p_2)$ and $z_2(p_1,p_2)$.\n",
    "3. If $|z_1| < \\epsilon$ and $|z_2| < \\epsilon$ then stop.\n",
    "4. Else set $p_1 = p_1 + \\kappa \\frac{z_1}{N}$ and $p_2 = p_2 + \\kappa \\frac{z_2}{N}$ and return to step 2."
   ]
  },
  {
   "cell_type": "markdown",
   "metadata": {},
   "source": [
    "**Question 4:** Plot the distribution of utility in the Walras-equilibrium and calculate its mean and variance."
   ]
  },
  {
   "cell_type": "markdown",
   "metadata": {},
   "source": [
    "**Question 5:** Find the Walras-equilibrium prices if instead all endowments were distributed equally. Discuss the implied changes in the distribution of utility. Does the value of $\\gamma$ play a role for your conclusions?"
   ]
  }
 ],
 "metadata": {
  "kernelspec": {
   "display_name": "Python 3",
   "language": "python",
   "name": "python3"
  },
  "language_info": {
   "codemirror_mode": {
    "name": "ipython",
    "version": 3
   },
   "file_extension": ".py",
   "mimetype": "text/x-python",
   "name": "python",
   "nbconvert_exporter": "python",
   "pygments_lexer": "ipython3",
   "version": "3.7.1"
  },
  "toc-autonumbering": false
 },
 "nbformat": 4,
 "nbformat_minor": 2
}
