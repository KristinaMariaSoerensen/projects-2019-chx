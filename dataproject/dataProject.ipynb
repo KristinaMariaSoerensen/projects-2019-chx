{
 "cells": [
  {
   "cell_type": "code",
   "execution_count": 1,
   "metadata": {},
   "outputs": [
    {
     "name": "stdout",
     "output_type": "stream",
     "text": [
      "The autoreload extension is already loaded. To reload it, use:\n",
      "  %reload_ext autoreload\n"
     ]
    }
   ],
   "source": [
    "%load_ext autoreload\n",
    "%autoreload 2\n",
    "# You can load your python module as this:\n",
    "import dataproject.example"
   ]
  },
  {
   "cell_type": "code",
   "execution_count": 2,
   "metadata": {},
   "outputs": [
    {
     "data": {
      "text/plain": [
       "'hello world'"
      ]
     },
     "execution_count": 2,
     "metadata": {},
     "output_type": "execute_result"
    }
   ],
   "source": [
    "dataproject.example.hello_world()"
   ]
  }
 ],
 "metadata": {
  "kernelspec": {
   "display_name": "Python 3",
   "language": "python",
   "name": "python3"
  },
  "language_info": {
   "codemirror_mode": {
    "name": "ipython",
    "version": 3
   },
   "file_extension": ".py",
   "mimetype": "text/x-python",
   "name": "python",
   "nbconvert_exporter": "python",
   "pygments_lexer": "ipython3",
   "version": "3.7.1"
  }
 },
 "nbformat": 4,
 "nbformat_minor": 2
}
{
 "cells": [
  {
   "cell_type": "code",
   "execution_count": 836,
   "metadata": {},
   "outputs": [],
   "source": [
    "import numpy as np\n",
    "import requests\n",
    "import pandas as pd\n",
    "from datetime import datetime"
   ]
  },
  {
   "cell_type": "code",
   "execution_count": 837,
   "metadata": {},
   "outputs": [],
   "source": [
    "## The data has to be collected from 23 different reports (noted: 03/04/19). I pick a random report to collect all urls\n",
    "url_random = 'http://www.oie.int/wahis_2/public/wahid.php/Reviewreport/Review?page_refer=MapFullEventReport&reportid=29772'\n",
    "\n",
    "response = requests.get(url_random)\n",
    "html = response.text"
   ]
  },
  {
   "cell_type": "code",
   "execution_count": 838,
   "metadata": {},
   "outputs": [],
   "source": [
    "## I use BeautifulSoup to scrape the data from the URLs\n",
    "from bs4 import BeautifulSoup\n",
    "soup = BeautifulSoup(html, 'lxml')"
   ]
  },
  {
   "cell_type": "code",
   "execution_count": 839,
   "metadata": {},
   "outputs": [
    {
     "name": "stdout",
     "output_type": "stream",
     "text": [
      "24\n",
      "[None, \"javascript:open_report('/wahis_2/public/wahid.php/Reviewreport/Review?', '27871')\"]\n",
      "23\n"
     ]
    },
    {
     "data": {
      "text/plain": [
       "[\"javascript:open_report('/wahis_2/public/wahid.php/Reviewreport/Review?', '27871')\",\n",
       " \"javascript:open_report('/wahis_2/public/wahid.php/Reviewreport/Review?', '27924')\"]"
      ]
     },
     "execution_count": 839,
     "metadata": {},
     "output_type": "execute_result"
    }
   ],
   "source": [
    "## To collect all hyperlinks BeautifulSoup find all html codes with 'a' and 'href'\n",
    "links = []\n",
    "for url in soup.find_all('a'):\n",
    "    link = url.get('href')\n",
    "    links.append(link)\n",
    "\n",
    "print(len(links))\n",
    "print(links[:2])\n",
    "\n",
    "links = links[1:]\n",
    "print(len(links))\n",
    "links[:2]"
   ]
  },
  {
   "cell_type": "code",
   "execution_count": 840,
   "metadata": {},
   "outputs": [
    {
     "name": "stdout",
     "output_type": "stream",
     "text": [
      "23\n"
     ]
    },
    {
     "data": {
      "text/plain": [
       "['28712', '27924']"
      ]
     },
     "execution_count": 840,
     "metadata": {},
     "output_type": "execute_result"
    }
   ],
   "source": [
    "## I want to keep track of the source of the datapoints so I start by scrape the report number\n",
    "report_number = []\n",
    "\n",
    "for link in random.sample(links, len(links)):                    # The following code is sensitive to changes.\n",
    "    link = link[-7:-2]                                           # First time I tried this code, the index was from -6:-1\n",
    "    if link[0] == '2':                                            \n",
    "        report_number.append(link)                               \n",
    "    if link[0] == '3':                                           # First time I tried this all report codes started with '2'\n",
    "        report_number.append(link)\n",
    "    \n",
    "print(len(report_number))\n",
    "report_number[0:2]"
   ]
  },
  {
   "cell_type": "code",
   "execution_count": 841,
   "metadata": {},
   "outputs": [
    {
     "name": "stdout",
     "output_type": "stream",
     "text": [
      "23\n"
     ]
    },
    {
     "data": {
      "text/plain": [
       "['http://www.oie.int/wahis_2/public/wahid.php/Reviewreport/Review?page_refer=MapFullEventReport&reportid=28712',\n",
       " 'http://www.oie.int/wahis_2/public/wahid.php/Reviewreport/Review?page_refer=MapFullEventReport&reportid=27924']"
      ]
     },
     "execution_count": 841,
     "metadata": {},
     "output_type": "execute_result"
    }
   ],
   "source": [
    "## I combine the reportid collected in the report_number list with the standard URL for all the hyperlinks\n",
    "all_links = ['http://www.oie.int/wahis_2/public/wahid.php/Reviewreport/Review?page_refer=MapFullEventReport&reportid='+ i for i in report_number]\n",
    "print(len(all_links))\n",
    "\n",
    "all_links[0:2]"
   ]
  },
  {
   "cell_type": "code",
   "execution_count": 842,
   "metadata": {},
   "outputs": [],
   "source": [
    "# For good measures I put in a delay to hinder to much activity on the webpage-\n",
    "from time import sleep\n",
    "from random import randint"
   ]
  },
  {
   "cell_type": "code",
   "execution_count": 843,
   "metadata": {
    "scrolled": false
   },
   "outputs": [],
   "source": [
    "## Here I loop through all the URLs to make a list of the html of all the reports.\n",
    "\n",
    "###############\n",
    "###   OBS   ###\n",
    "###############\n",
    "\n",
    "### Takes around 5-10 minutes to load due to delay. (The delay might be adjusted without problems though) ###\n",
    "\n",
    "\n",
    "all_html = []\n",
    "for link in all_links:\n",
    "    sleep(randint(8,15))\n",
    "    response = requests.get(link)\n",
    "    html = response.text\n",
    "    soup = BeautifulSoup(html, 'lxml')\n",
    "    all_html.append(soup)\n"
   ]
  },
  {
   "cell_type": "code",
   "execution_count": 844,
   "metadata": {},
   "outputs": [
    {
     "name": "stdout",
     "output_type": "stream",
     "text": [
      "<class 'list'>\n",
      "23\n"
     ]
    }
   ],
   "source": [
    "# Test\n",
    "print(type(all_html))\n",
    "print(len(all_html))\n",
    "#print(all_html[0])"
   ]
  },
  {
   "cell_type": "code",
   "execution_count": 845,
   "metadata": {},
   "outputs": [],
   "source": [
    "## Now I sort and alter the data into lists\n",
    "\n",
    "## Empty lists to make our data columns for each relevant scrape\n",
    "outbreak_id = []\n",
    "city = []\n",
    "prefecture = []\n",
    "outbreak_date = []\n",
    "species = []\n",
    "no_susceptible = []\n",
    "no_cases = []\n",
    "no_deaths = []\n",
    "\n",
    "## Looping through all the report html scrapes\n",
    "for report in all_html:\n",
    "    ## I find the report number\n",
    "    report_no = report.find('td', {'width':'30%'}).text[-2:]\n",
    "    \n",
    "    ## Empty list of outbreaks\n",
    "    outbreaks = []\n",
    "    \n",
    "    ## The tables are collected from the html code\n",
    "    tables = report.find_all('table', {'class':'TableFoyers'})\n",
    "    for tr in tables:\n",
    "        td = tr.find_all('td')\n",
    "        row = [tr.text.strip() for tr in td if tr.text.strip()]\n",
    "        for i in row:\n",
    "            text = str(i)\n",
    "            for i in range(1,1000):                                        # Thousand is chosen as it is an unreasonably high number\n",
    "                if text == 'Outbreak '+ str(i):\n",
    "                    outbreaks.append(row)\n",
    "\n",
    "\n",
    "\n",
    "    for outbreak in outbreaks:\n",
    "        ## outbreak_id (the report number added the outbreak counter):\n",
    "        out = outbreak[0]\n",
    "        out2 = report_no + '.' + out[9:100]\n",
    "        outbreak_id.append(out2)\n",
    "        \n",
    "        ## The city and prefecture\n",
    "        out = outbreak[1]\n",
    "        split = out.split(\",\")\n",
    "        strip = [x.strip(' ') for x in split]\n",
    "        city.append(strip[0])\n",
    "        prefecture.append(strip[1])\n",
    "        \n",
    "        ## Date of outbreak\n",
    "        out = datetime.strptime(outbreak[3], '%d/%m/%Y').date()\n",
    "        outbreak_date.append(out)\n",
    "    \n",
    "        ## Species\n",
    "        out = outbreak[16]\n",
    "        species.append(out)\n",
    "    \n",
    "        ## Number of susceptible animals\n",
    "        if outbreak[16] == 'Swine':\n",
    "            out = outbreak[17]\n",
    "            no_susceptible.append(out)\n",
    "        else:\n",
    "            out = '0'\n",
    "            no_susceptible.append(out)\n",
    "    \n",
    "        ## Number of cases\n",
    "        if outbreak[16] == 'Swine':\n",
    "            if report_no == '22':\n",
    "                out = '1'\n",
    "            else:    \n",
    "                out = outbreak[18]\n",
    "            no_cases.append(out)\n",
    "        else:\n",
    "            out = outbreak[17]\n",
    "            no_cases.append(out)\n",
    "        \n",
    "        ## Number of deaths\n",
    "        if outbreak[16] == 'Swine':\n",
    "            out = outbreak[19]\n",
    "            no_deaths.append(out)\n",
    "        else:\n",
    "            out = outbreak[18]\n",
    "            no_deaths.append(out)\n"
   ]
  },
  {
   "cell_type": "code",
   "execution_count": 846,
   "metadata": {},
   "outputs": [
    {
     "name": "stdout",
     "output_type": "stream",
     "text": [
      "210\n"
     ]
    }
   ],
   "source": [
    "print(len(outbreak_id))\n",
    "\n",
    "#print(outbreak_id)\n",
    "#print(city)\n",
    "#print(prefecture)\n",
    "#print(outbreak_date)\n",
    "#print(len(species))\n",
    "#print(no_susceptible)\n",
    "#print(no_cases)\n",
    "#print(no_deaths)"
   ]
  },
  {
   "cell_type": "code",
   "execution_count": 847,
   "metadata": {},
   "outputs": [
    {
     "name": "stdout",
     "output_type": "stream",
     "text": [
      "<class 'pandas.core.frame.DataFrame'>\n",
      "RangeIndex: 210 entries, 0 to 209\n",
      "Data columns (total 8 columns):\n",
      "ID              210 non-null object\n",
      "City            210 non-null object\n",
      "Prefecture      210 non-null object\n",
      "Date            210 non-null object\n",
      "Species         210 non-null object\n",
      "Susceptibles    210 non-null object\n",
      "Cases           210 non-null object\n",
      "Deaths          210 non-null object\n",
      "dtypes: object(8)\n",
      "memory usage: 13.2+ KB\n",
      "None\n",
      "     ID           City Prefecture        Date                       Species  \\\n",
      "0   1.1      Gifu City       Gifu  2018-09-13  Wild boar:Sus scrofa(Suidae)   \n",
      "1  19.1    Kawabe Town       Gifu  2019-02-27  Wild boar:Sus scrofa(Suidae)   \n",
      "2  19.2  Minokamo City       Gifu  2019-02-27  Wild boar:Sus scrofa(Suidae)   \n",
      "3  19.3      Mino City       Gifu  2019-02-27  Wild boar:Sus scrofa(Suidae)   \n",
      "4  19.4      Seki City       Gifu  2019-02-27  Wild boar:Sus scrofa(Suidae)   \n",
      "\n",
      "  Susceptibles Cases Deaths  \n",
      "0            0     1      1  \n",
      "1            0     1      0  \n",
      "2            0     1      1  \n",
      "3            0     1      1  \n",
      "4            0     1      0  \n"
     ]
    }
   ],
   "source": [
    "## The lists are converted into a combined dataframe:\n",
    "combined_df = pd.DataFrame({'ID': outbreak_id,\n",
    "                              'City': city,\n",
    "                              'Prefecture': prefecture,\n",
    "                              'Date': outbreak_date,\n",
    "                              'Species': species,\n",
    "                              'Susceptibles': no_susceptible,\n",
    "                              'Cases': no_cases,\n",
    "                              'Deaths': no_deaths                            \n",
    "})\n",
    "\n",
    "print(combined_df.info())\n",
    "print(combined_df.head(5))"
   ]
  },
  {
   "cell_type": "code",
   "execution_count": 848,
   "metadata": {},
   "outputs": [],
   "source": [
    "## Save dataset to CSV for future work without the long scraping time\n",
    "\n",
    "todays_date = datetime.now().strftime('%d%m%Y')\n",
    "export_csv = combined_df.to_csv('CSF_Japan_'+todays_date+'.csv', index = False)"
   ]
  },
  {
   "cell_type": "code",
   "execution_count": 849,
   "metadata": {},
   "outputs": [
    {
     "name": "stdout",
     "output_type": "stream",
     "text": [
      "     ID         City Prefecture        Date                       Species  \\\n",
      "0   1.1    Gifu City       Gifu  2018-09-13  Wild boar:Sus scrofa(Suidae)   \n",
      "1  19.1  Kawabe Town       Gifu  2019-02-27  Wild boar:Sus scrofa(Suidae)   \n",
      "\n",
      "   Susceptibles  Cases  Deaths  \n",
      "0             0      1       1  \n",
      "1             0      1       0  \n",
      "<class 'pandas.core.frame.DataFrame'>\n",
      "<class 'pandas.core.frame.DataFrame'>\n",
      "RangeIndex: 210 entries, 0 to 209\n",
      "Data columns (total 8 columns):\n",
      "ID              210 non-null object\n",
      "City            210 non-null object\n",
      "Prefecture      210 non-null object\n",
      "Date            210 non-null object\n",
      "Species         210 non-null object\n",
      "Susceptibles    210 non-null int64\n",
      "Cases           210 non-null int64\n",
      "Deaths          210 non-null int64\n",
      "dtypes: int64(3), object(5)\n",
      "memory usage: 13.2+ KB\n",
      "None\n"
     ]
    }
   ],
   "source": [
    "######################\n",
    "###   Reload csv   ###\n",
    "######################\n",
    "\n",
    "\n",
    "# Remember to alter the date in the name of CSV files, if a newer version exists\n",
    "csf = pd.read_csv('CSF_Japan_06042019.csv')\n",
    "\n",
    "print(csf.head(2))\n",
    "print(type(csf))\n",
    "print(csf.info())"
   ]
  },
  {
   "cell_type": "code",
   "execution_count": 850,
   "metadata": {},
   "outputs": [
    {
     "name": "stderr",
     "output_type": "stream",
     "text": [
      "UsageError: Line magic function `%` not found.\n"
     ]
    }
   ],
   "source": [
    "import seaborn as sns\n",
    "import matplotlib.pyplot as plt\n",
    "% matplotlib inline\n",
    "import matplotlib\n",
    "from matplotlib import pyplot\n",
    "from matplotlib import dates\n",
    "import matplotlib.ticker as ticker\n",
    "import matplotlib.dates as mdates\n",
    "import time"
   ]
  },
  {
   "cell_type": "code",
   "execution_count": 851,
   "metadata": {},
   "outputs": [
    {
     "data": {
      "text/plain": [
       "<function matplotlib.pyplot.show(*args, **kw)>"
      ]
     },
     "execution_count": 851,
     "metadata": {},
     "output_type": "execute_result"
    },
    {
     "data": {
      "image/png": "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\n",
      "text/plain": [
       "<Figure size 432x288 with 1 Axes>"
      ]
     },
     "metadata": {
      "needs_background": "light"
     },
     "output_type": "display_data"
    }
   ],
   "source": [
    "## Count on number of cases over the entire period. Divided between wild boar and swine:\n",
    "#sns.countplot(x='Cases',hue ='Species', data=ts)\n",
    "sns.countplot(x='Species',hue ='Cases', data=ts)\n",
    "\n",
    "## Due to lack of information in the latest report (Report number 22 on April 5th)\n",
    "## 6 outbreaks has noted been noted with cases = 1. Even though the number might be higher.\n",
    "\n",
    "plt.show"
   ]
  },
  {
   "cell_type": "code",
   "execution_count": 852,
   "metadata": {},
   "outputs": [
    {
     "name": "stdout",
     "output_type": "stream",
     "text": [
      "         Date  Susceptibles  Cases  Deaths  Outbreaks\n",
      "0  2018-09-03           610     29      29          1\n",
      "1  2018-09-13             0      1       1          1\n",
      "2  2018-09-15             0      1       1          1\n",
      "3  2018-09-18             0      3       3          1\n",
      "4  2018-09-21             0      1       1          1\n",
      "108\n",
      "<class 'pandas.core.frame.DataFrame'>\n",
      "RangeIndex: 108 entries, 0 to 107\n",
      "Data columns (total 5 columns):\n",
      "Date            108 non-null object\n",
      "Susceptibles    108 non-null int64\n",
      "Cases           108 non-null int64\n",
      "Deaths          108 non-null int64\n",
      "Outbreaks       108 non-null int64\n",
      "dtypes: int64(4), object(1)\n",
      "memory usage: 4.3+ KB\n",
      "None\n"
     ]
    }
   ],
   "source": [
    "# Instead of looking at cases I look at the number of outbreaks each day:\n",
    "# Grouping by 'Date'\n",
    "grouped = csf.groupby('Date')\n",
    "\n",
    "csf_count = grouped.count()\n",
    "csf_grouped = grouped.sum()\n",
    "\n",
    "csf_grouped['Outbreaks'] = csf_count['ID']\n",
    "csf_grouped.reset_index(inplace=True)\n",
    "\n",
    "#print(csf_count.head(5))\n",
    "print(csf_grouped.head(5))\n",
    "print(len(csf_grouped))\n",
    "print(csf_grouped.info())"
   ]
  },
  {
   "cell_type": "code",
   "execution_count": 853,
   "metadata": {},
   "outputs": [
    {
     "name": "stdout",
     "output_type": "stream",
     "text": [
      "<class 'pandas.core.frame.DataFrame'>\n",
      "DatetimeIndex: 108 entries, 2018-09-03 to 2019-03-29\n",
      "Data columns (total 4 columns):\n",
      "Susceptibles    108 non-null int64\n",
      "Cases           108 non-null int64\n",
      "Deaths          108 non-null int64\n",
      "Outbreaks       108 non-null int64\n",
      "dtypes: int64(4)\n",
      "memory usage: 4.2 KB\n",
      "None\n"
     ]
    }
   ],
   "source": [
    "# Now there are no duplicates, so I can change the format type of the date to a 'datetime':\n",
    "csf_grouped['datetime'] = pd.to_datetime(csf_grouped['Date'].astype(str), format='%Y-%m-%d')\n",
    "csf_grouped = csf_grouped.set_index('datetime')\n",
    "csf_grouped.drop(['Date'], axis=1, inplace=True)\n",
    "\n",
    "csf_grouped.head()\n",
    "print(csf_grouped.info())"
   ]
  },
  {
   "cell_type": "code",
   "execution_count": 854,
   "metadata": {},
   "outputs": [
    {
     "name": "stdout",
     "output_type": "stream",
     "text": [
      "            Susceptibles  Cases  Deaths  Outbreaks\n",
      "2018-09-02             0      0       0          0\n",
      "2018-09-03           610     29      29          1\n",
      "2018-09-04             0      0       0          0\n",
      "2018-09-05             0      0       0          0\n",
      "2018-09-06             0      0       0          0\n",
      "<class 'pandas.core.frame.DataFrame'>\n",
      "RangeIndex: 210 entries, 0 to 209\n",
      "Data columns (total 8 columns):\n",
      "ID              210 non-null object\n",
      "City            210 non-null object\n",
      "Prefecture      210 non-null object\n",
      "Date            210 non-null object\n",
      "Species         210 non-null object\n",
      "Susceptibles    210 non-null int64\n",
      "Cases           210 non-null int64\n",
      "Deaths          210 non-null int64\n",
      "dtypes: int64(3), object(5)\n",
      "memory usage: 13.2+ KB\n",
      "None\n"
     ]
    }
   ],
   "source": [
    "# All dates without an outbreak and no datapoint gets a datapoint with the value zero\n",
    "idx = pd.date_range('2018-09-02', '2019-03-29')\n",
    "\n",
    "csf_grouped.index = pd.DatetimeIndex(csf_grouped.index)\n",
    "\n",
    "csf_grouped = csf_grouped.reindex(idx, fill_value=0)\n",
    "print(csf_grouped.head())\n",
    "print(csf.info())"
   ]
  },
  {
   "cell_type": "code",
   "execution_count": 855,
   "metadata": {},
   "outputs": [
    {
     "data": {
      "text/plain": [
       "<matplotlib.axes._subplots.AxesSubplot at 0x1a207a79b0>"
      ]
     },
     "execution_count": 855,
     "metadata": {},
     "output_type": "execute_result"
    },
    {
     "data": {
      "image/png": "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\n",
      "text/plain": [
       "<Figure size 432x288 with 1 Axes>"
      ]
     },
     "metadata": {
      "needs_background": "light"
     },
     "output_type": "display_data"
    }
   ],
   "source": [
    "# The plot shows the frequency of outbreaks pr. day:\n",
    "\n",
    "sns.countplot(x='Outbreaks', data=csf_grouped)"
   ]
  },
  {
   "cell_type": "code",
   "execution_count": 856,
   "metadata": {},
   "outputs": [],
   "source": [
    "import matplotlib.ticker as plticker\n",
    "from matplotlib.dates import DateFormatter"
   ]
  },
  {
   "cell_type": "code",
   "execution_count": 857,
   "metadata": {},
   "outputs": [
    {
     "data": {
      "image/png": "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\n",
      "text/plain": [
       "<Figure size 1296x432 with 1 Axes>"
      ]
     },
     "metadata": {
      "needs_background": "light"
     },
     "output_type": "display_data"
    }
   ],
   "source": [
    "## The development in outbreaks over time.\n",
    "\n",
    "fig, ax = plt.subplots(figsize = (18,6))\n",
    "fig = sns.barplot(x=csf_grouped.index, y=csf_grouped['Outbreaks'], ax=ax)\n",
    "\n",
    "n = 7  # Keeps every 7th label\n",
    "[l.set_visible(False) for (i,l) in enumerate(ax.xaxis.get_ticklabels()) if i % n != 0]\n",
    "\n",
    "ax.set_xticklabels(labels, rotation=20, horizontalalignment = 'right')\n",
    "\n",
    "plt.show()\n",
    "# I unfortunately had to give up finishing the formatting of the ticks on the x-axis. "
   ]
  },
  {
   "cell_type": "code",
   "execution_count": 858,
   "metadata": {},
   "outputs": [
    {
     "name": "stdout",
     "output_type": "stream",
     "text": [
      "     ID         City Prefecture        Date                       Species  \\\n",
      "0   1.1    Gifu City       Gifu  2018-09-13  Wild boar:Sus scrofa(Suidae)   \n",
      "1  19.1  Kawabe Town       Gifu  2019-02-27  Wild boar:Sus scrofa(Suidae)   \n",
      "\n",
      "   Susceptibles  Cases  Deaths  \n",
      "0             0      1       1  \n",
      "1             0      1       0  \n",
      "<class 'pandas.core.frame.DataFrame'>\n",
      "RangeIndex: 210 entries, 0 to 209\n",
      "Data columns (total 8 columns):\n",
      "ID              210 non-null object\n",
      "City            210 non-null object\n",
      "Prefecture      210 non-null object\n",
      "Date            210 non-null object\n",
      "Species         210 non-null object\n",
      "Susceptibles    210 non-null int64\n",
      "Cases           210 non-null int64\n",
      "Deaths          210 non-null int64\n",
      "dtypes: int64(3), object(5)\n",
      "memory usage: 13.2+ KB\n",
      "None\n"
     ]
    }
   ],
   "source": [
    "# The rest of the code is the collection of the coordinates of the cities where the outbreaks are.\n",
    "# My initial thought was to make an interactive map, but I couldn't get geopandas to work. So the new data set is \n",
    "    # not yet utilized for anything.\n",
    "\n",
    "\n",
    "######################\n",
    "###   Reload csv   ###\n",
    "######################\n",
    "\n",
    "# Remember to alter the date in the name of CSV files, if a newer version exists\n",
    "csf = pd.read_csv('CSF_Japan_06042019.csv')\n",
    "\n",
    "print(csf.head(2))\n",
    "print(csf.info())"
   ]
  },
  {
   "cell_type": "code",
   "execution_count": 859,
   "metadata": {},
   "outputs": [
    {
     "name": "stdout",
     "output_type": "stream",
     "text": [
      "       ID          City Prefecture        Date                       Species  \\\n",
      "124   8.1  Kakamigahara       Gifu  2018-11-30  Wild boar:Sus scrofa(Suidae)   \n",
      "125   8.2        Yaotsu       Gifu  2018-12-02  Wild boar:Sus scrofa(Suidae)   \n",
      "126   8.3          Kani       Gifu  2018-12-04  Wild boar:Sus scrofa(Suidae)   \n",
      "127   8.4  Kakamigahara       Gifu  2018-12-04  Wild boar:Sus scrofa(Suidae)   \n",
      "\n",
      "     Susceptibles  Cases  Deaths         Geo_Lookup  \n",
      "124             0      2       1  Kakamigahara Gifu  \n",
      "125             0      1       0        Yaotsu Gifu  \n",
      "126             0      1       0          Kani Gifu  \n",
      "127             0      2       0  Kakamigahara Gifu  \n"
     ]
    }
   ],
   "source": [
    "## If the city names are corrected, the city names can be used to collect geospatial data\n",
    "new = csf['City'].str.split()\n",
    "csf['City'] = new.str[0]\n",
    "\n",
    "csf = csf.replace(to_replace ='Ohmihachiman', value ='Omihachiman') ## Ohmihachiman does not work with GeoLocator\n",
    "\n",
    "csf['Geo_Lookup'] = csf['City'] + ' ' + csf['Prefecture']\n",
    "print(csf[124:128])"
   ]
  },
  {
   "cell_type": "code",
   "execution_count": 860,
   "metadata": {},
   "outputs": [
    {
     "name": "stdout",
     "output_type": "stream",
     "text": [
      "(35.4406551, 137.0155052)\n",
      "<class 'geopy.location.Location'>\n"
     ]
    }
   ],
   "source": [
    "## Code for testing of Nominatim ##\n",
    "\n",
    "from geopy.geocoders import Nominatim\n",
    "geolocator = Nominatim(user_agent=\"school project\")\n",
    "location = geolocator.geocode('Minokamo Gifu', timeout = 100)\n",
    "\n",
    "print((location.latitude, location.longitude))\n",
    "print(type(location))"
   ]
  },
  {
   "cell_type": "code",
   "execution_count": 492,
   "metadata": {},
   "outputs": [],
   "source": [
    "### OBS: Very slow (4 min.) - to avoid being cut off I include a timeout ###\n",
    "\n",
    "from geopy.geocoders import Nominatim\n",
    "geolocator = Nominatim(user_agent=\"school project\")\n",
    "\n",
    "latitude = []\n",
    "longitude = []\n",
    "for city in csf['Geo_Lookup']:\n",
    "    try:\n",
    "        location = geolocator.geocode(city, timeout=50)\n",
    "        lat = location.latitude\n",
    "        lon = location.longitude\n",
    "        latitude.append(lat)\n",
    "        longitude.append(lon)\n",
    "    except:\n",
    "        print(city)\n",
    "        raise\n",
    "    \n",
    "    "
   ]
  },
  {
   "cell_type": "code",
   "execution_count": 520,
   "metadata": {},
   "outputs": [
    {
     "name": "stdout",
     "output_type": "stream",
     "text": [
      "210\n",
      "210\n"
     ]
    }
   ],
   "source": [
    "print(len(latitude))\n",
    "print(len(longitude))"
   ]
  },
  {
   "cell_type": "code",
   "execution_count": 521,
   "metadata": {
    "scrolled": true
   },
   "outputs": [
    {
     "name": "stdout",
     "output_type": "stream",
     "text": [
      "<class 'pandas.core.frame.DataFrame'>\n",
      "RangeIndex: 210 entries, 0 to 209\n",
      "Data columns (total 2 columns):\n",
      "Latitude     210 non-null float64\n",
      "Longitude    210 non-null float64\n",
      "dtypes: float64(2)\n",
      "memory usage: 3.4 KB\n",
      "None\n",
      "<class 'pandas.core.frame.DataFrame'>\n",
      "RangeIndex: 210 entries, 0 to 209\n",
      "Data columns (total 9 columns):\n",
      "ID              210 non-null object\n",
      "City            210 non-null object\n",
      "Prefecture      210 non-null object\n",
      "Date            210 non-null object\n",
      "Species         210 non-null object\n",
      "Susceptibles    210 non-null int64\n",
      "Cases           210 non-null int64\n",
      "Deaths          210 non-null int64\n",
      "Geo_Lookup      210 non-null object\n",
      "dtypes: int64(3), object(6)\n",
      "memory usage: 14.8+ KB\n",
      "None\n"
     ]
    }
   ],
   "source": [
    "# The list with the coordinates are converted to a dataframe\n",
    "coordinates = pd.DataFrame({'Latitude': latitude,\n",
    "                              'Longitude': longitude,                            \n",
    "})\n",
    "\n",
    "# I check the compatability\n",
    "print(coordinates.info())\n",
    "print(csf.info())"
   ]
  },
  {
   "cell_type": "code",
   "execution_count": 539,
   "metadata": {},
   "outputs": [
    {
     "name": "stdout",
     "output_type": "stream",
     "text": [
      "     ID          City Prefecture        Date                       Species  \\\n",
      "0   8.1  Kakamigahara       Gifu  2018-11-30  Wild boar:Sus scrofa(Suidae)   \n",
      "1   8.2        Yaotsu       Gifu  2018-12-02  Wild boar:Sus scrofa(Suidae)   \n",
      "2   8.3          Kani       Gifu  2018-12-04  Wild boar:Sus scrofa(Suidae)   \n",
      "3   8.4  Kakamigahara       Gifu  2018-12-04  Wild boar:Sus scrofa(Suidae)   \n",
      "\n",
      "   Susceptibles  Cases  Deaths         Geo_Lookup   Latitude   Longitude  \n",
      "0             0      2       1  Kakamigahara Gifu  35.399583  136.848565  \n",
      "1             0      1       0        Yaotsu Gifu  35.475594  137.141068  \n",
      "2             0      1       0          Kani Gifu  35.426109  137.061317  \n",
      "3             0      2       0  Kakamigahara Gifu  35.399583  136.848565  \n"
     ]
    }
   ],
   "source": [
    "# The coordinates-dataframe is appended to the big dataset \n",
    "csf['Latitude'] = coordinates['Latitude']\n",
    "csf['Longitude'] = coordinates['Longitude']\n",
    "\n",
    "# To save the new dataset:\n",
    "csf = csf\n",
    "\n",
    "print(csf.head(4))"
   ]
  },
  {
   "cell_type": "code",
   "execution_count": 540,
   "metadata": {},
   "outputs": [],
   "source": [
    "# The coordinates data takes a long time to load, so I save and reload once more\n",
    "\n",
    "todays_date = datetime.now().strftime('%d%m%Y')\n",
    "export_csv = csf.to_csv('CSF_Geo_Japan_'+todays_date+'.csv', index = False)"
   ]
  },
  {
   "cell_type": "code",
   "execution_count": null,
   "metadata": {},
   "outputs": [],
   "source": [
    "######################\n",
    "###   Reload csv   ###\n",
    "######################\n",
    "\n",
    "# Remember to alter the date in the name of CSV files, if a newer version exists\n",
    "csf = pd.read_csv('CSF_Geo_Japan_05042019.csv')\n",
    "\n",
    "print(csf.head(2))\n",
    "print(csf.info())"
   ]
  }
 ],
 "metadata": {
  "kernelspec": {
   "display_name": "Python 3",
   "language": "python",
   "name": "python3"
  },
  "language_info": {
   "codemirror_mode": {
    "name": "ipython",
    "version": 3
   },
   "file_extension": ".py",
   "mimetype": "text/x-python",
   "name": "python",
   "nbconvert_exporter": "python",
   "pygments_lexer": "ipython3",
   "version": "3.7.1"
  }
 },
 "nbformat": 4,
 "nbformat_minor": 2
}
